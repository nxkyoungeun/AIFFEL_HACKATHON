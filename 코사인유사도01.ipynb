{
 "cells": [
  {
   "cell_type": "code",
   "execution_count": 1,
   "id": "85918fb9",
   "metadata": {},
   "outputs": [],
   "source": [
    "import pandas as pd\n",
    "import numpy as np\n",
    "\n",
    "from sklearn.metrics.pairwise import cosine_similarity\n",
    "\n",
    "import pandas as pd\n",
    "\n",
    "import nltk\n",
    "from nltk.tokenize import TreebankWordTokenizer\n",
    "\n",
    "from sklearn.feature_extraction.text import TfidfVectorizer\n",
    "from sklearn.linear_model import LogisticRegression\n",
    "\n",
    "import warnings\n",
    "warnings.filterwarnings('ignore')"
   ]
  },
  {
   "cell_type": "code",
   "execution_count": 2,
   "id": "7b709c9e",
   "metadata": {},
   "outputs": [
    {
     "name": "stdout",
     "output_type": "stream",
     "text": [
      "(715, 12)\n"
     ]
    },
    {
     "data": {
      "text/html": [
       "<div>\n",
       "<style scoped>\n",
       "    .dataframe tbody tr th:only-of-type {\n",
       "        vertical-align: middle;\n",
       "    }\n",
       "\n",
       "    .dataframe tbody tr th {\n",
       "        vertical-align: top;\n",
       "    }\n",
       "\n",
       "    .dataframe thead th {\n",
       "        text-align: right;\n",
       "    }\n",
       "</style>\n",
       "<table border=\"1\" class=\"dataframe\">\n",
       "  <thead>\n",
       "    <tr style=\"text-align: right;\">\n",
       "      <th></th>\n",
       "      <th>Unnamed: 0</th>\n",
       "      <th>user</th>\n",
       "      <th>color</th>\n",
       "      <th>contents</th>\n",
       "      <th>category</th>\n",
       "      <th>ratings</th>\n",
       "      <th>gender</th>\n",
       "      <th>price</th>\n",
       "      <th>style</th>\n",
       "      <th>up_check</th>\n",
       "      <th>brand</th>\n",
       "      <th>url</th>\n",
       "    </tr>\n",
       "  </thead>\n",
       "  <tbody>\n",
       "    <tr>\n",
       "      <th>0</th>\n",
       "      <td>0</td>\n",
       "      <td>멤버_464f9cc84f7d</td>\n",
       "      <td>기타</td>\n",
       "      <td>면</td>\n",
       "      <td>상의</td>\n",
       "      <td>5</td>\n",
       "      <td>남자</td>\n",
       "      <td>39000</td>\n",
       "      <td>0</td>\n",
       "      <td>0</td>\n",
       "      <td>119레오</td>\n",
       "      <td>https://www.musinsa.com/app/goods/1876547/0</td>\n",
       "    </tr>\n",
       "    <tr>\n",
       "      <th>1</th>\n",
       "      <td>1</td>\n",
       "      <td>멤버_464f9cc84f7d</td>\n",
       "      <td>카키</td>\n",
       "      <td>면</td>\n",
       "      <td>하의</td>\n",
       "      <td>5</td>\n",
       "      <td>남자</td>\n",
       "      <td>42000</td>\n",
       "      <td>0</td>\n",
       "      <td>0</td>\n",
       "      <td>119레오</td>\n",
       "      <td>https://www.musinsa.com/app/goods/2396824/0</td>\n",
       "    </tr>\n",
       "    <tr>\n",
       "      <th>2</th>\n",
       "      <td>2</td>\n",
       "      <td>멤버_464f9cc84f7d</td>\n",
       "      <td>기타</td>\n",
       "      <td>면</td>\n",
       "      <td>모자</td>\n",
       "      <td>5</td>\n",
       "      <td>남자</td>\n",
       "      <td>59000</td>\n",
       "      <td>0</td>\n",
       "      <td>0</td>\n",
       "      <td>119레오</td>\n",
       "      <td>https://www.musinsa.com/app/goods/2428013/0</td>\n",
       "    </tr>\n",
       "    <tr>\n",
       "      <th>3</th>\n",
       "      <td>3</td>\n",
       "      <td>멤버_464f9cc84f7d</td>\n",
       "      <td>블랙</td>\n",
       "      <td>면</td>\n",
       "      <td>상의</td>\n",
       "      <td>5</td>\n",
       "      <td>남자</td>\n",
       "      <td>35000</td>\n",
       "      <td>0</td>\n",
       "      <td>0</td>\n",
       "      <td>119레오</td>\n",
       "      <td>https://www.musinsa.com/app/goods/470357/0</td>\n",
       "    </tr>\n",
       "    <tr>\n",
       "      <th>4</th>\n",
       "      <td>4</td>\n",
       "      <td>멤버_464f9cc84f7d</td>\n",
       "      <td>아이보리</td>\n",
       "      <td>면 아라미드</td>\n",
       "      <td>가방</td>\n",
       "      <td>5</td>\n",
       "      <td>남자</td>\n",
       "      <td>48000</td>\n",
       "      <td>1</td>\n",
       "      <td>1</td>\n",
       "      <td>119레오</td>\n",
       "      <td>https://www.musinsa.com/app/goods/1766332/0</td>\n",
       "    </tr>\n",
       "  </tbody>\n",
       "</table>\n",
       "</div>"
      ],
      "text/plain": [
       "   Unnamed: 0             user color contents category  ratings gender  price  \\\n",
       "0           0  멤버_464f9cc84f7d    기타        면       상의        5     남자  39000   \n",
       "1           1  멤버_464f9cc84f7d    카키        면       하의        5     남자  42000   \n",
       "2           2  멤버_464f9cc84f7d    기타        면       모자        5     남자  59000   \n",
       "3           3  멤버_464f9cc84f7d    블랙        면       상의        5     남자  35000   \n",
       "4           4  멤버_464f9cc84f7d  아이보리   면 아라미드       가방        5     남자  48000   \n",
       "\n",
       "   style  up_check  brand                                          url  \n",
       "0      0         0  119레오  https://www.musinsa.com/app/goods/1876547/0  \n",
       "1      0         0  119레오  https://www.musinsa.com/app/goods/2396824/0  \n",
       "2      0         0  119레오  https://www.musinsa.com/app/goods/2428013/0  \n",
       "3      0         0  119레오   https://www.musinsa.com/app/goods/470357/0  \n",
       "4      1         1  119레오  https://www.musinsa.com/app/goods/1766332/0  "
      ]
     },
     "execution_count": 2,
     "metadata": {},
     "output_type": "execute_result"
    }
   ],
   "source": [
    "# 전처리 끝낸 데이터 불러오기\n",
    "raw = pd.read_csv('/Users/mac/AIFFEL/hackathon/new_musinsa(upcycling).csv', engine='python')\n",
    "print(raw.shape)\n",
    "raw.head()"
   ]
  },
  {
   "cell_type": "code",
   "execution_count": 3,
   "id": "1e7d60f2",
   "metadata": {},
   "outputs": [
    {
     "data": {
      "text/html": [
       "<div>\n",
       "<style scoped>\n",
       "    .dataframe tbody tr th:only-of-type {\n",
       "        vertical-align: middle;\n",
       "    }\n",
       "\n",
       "    .dataframe tbody tr th {\n",
       "        vertical-align: top;\n",
       "    }\n",
       "\n",
       "    .dataframe thead th {\n",
       "        text-align: right;\n",
       "    }\n",
       "</style>\n",
       "<table border=\"1\" class=\"dataframe\">\n",
       "  <thead>\n",
       "    <tr style=\"text-align: right;\">\n",
       "      <th></th>\n",
       "      <th>user</th>\n",
       "      <th>color</th>\n",
       "      <th>contents</th>\n",
       "      <th>category</th>\n",
       "      <th>ratings</th>\n",
       "      <th>gender</th>\n",
       "      <th>price</th>\n",
       "      <th>style</th>\n",
       "      <th>up_check</th>\n",
       "      <th>brand</th>\n",
       "      <th>url</th>\n",
       "    </tr>\n",
       "  </thead>\n",
       "  <tbody>\n",
       "    <tr>\n",
       "      <th>0</th>\n",
       "      <td>멤버_464f9cc84f7d</td>\n",
       "      <td>기타</td>\n",
       "      <td>면</td>\n",
       "      <td>상의</td>\n",
       "      <td>5</td>\n",
       "      <td>남자</td>\n",
       "      <td>39000</td>\n",
       "      <td>0</td>\n",
       "      <td>0</td>\n",
       "      <td>119레오</td>\n",
       "      <td>https://www.musinsa.com/app/goods/1876547/0</td>\n",
       "    </tr>\n",
       "    <tr>\n",
       "      <th>1</th>\n",
       "      <td>멤버_464f9cc84f7d</td>\n",
       "      <td>카키</td>\n",
       "      <td>면</td>\n",
       "      <td>하의</td>\n",
       "      <td>5</td>\n",
       "      <td>남자</td>\n",
       "      <td>42000</td>\n",
       "      <td>0</td>\n",
       "      <td>0</td>\n",
       "      <td>119레오</td>\n",
       "      <td>https://www.musinsa.com/app/goods/2396824/0</td>\n",
       "    </tr>\n",
       "    <tr>\n",
       "      <th>2</th>\n",
       "      <td>멤버_464f9cc84f7d</td>\n",
       "      <td>기타</td>\n",
       "      <td>면</td>\n",
       "      <td>모자</td>\n",
       "      <td>5</td>\n",
       "      <td>남자</td>\n",
       "      <td>59000</td>\n",
       "      <td>0</td>\n",
       "      <td>0</td>\n",
       "      <td>119레오</td>\n",
       "      <td>https://www.musinsa.com/app/goods/2428013/0</td>\n",
       "    </tr>\n",
       "    <tr>\n",
       "      <th>3</th>\n",
       "      <td>멤버_464f9cc84f7d</td>\n",
       "      <td>블랙</td>\n",
       "      <td>면</td>\n",
       "      <td>상의</td>\n",
       "      <td>5</td>\n",
       "      <td>남자</td>\n",
       "      <td>35000</td>\n",
       "      <td>0</td>\n",
       "      <td>0</td>\n",
       "      <td>119레오</td>\n",
       "      <td>https://www.musinsa.com/app/goods/470357/0</td>\n",
       "    </tr>\n",
       "    <tr>\n",
       "      <th>4</th>\n",
       "      <td>멤버_464f9cc84f7d</td>\n",
       "      <td>아이보리</td>\n",
       "      <td>면 아라미드</td>\n",
       "      <td>가방</td>\n",
       "      <td>5</td>\n",
       "      <td>남자</td>\n",
       "      <td>48000</td>\n",
       "      <td>1</td>\n",
       "      <td>1</td>\n",
       "      <td>119레오</td>\n",
       "      <td>https://www.musinsa.com/app/goods/1766332/0</td>\n",
       "    </tr>\n",
       "  </tbody>\n",
       "</table>\n",
       "</div>"
      ],
      "text/plain": [
       "              user color contents category  ratings gender  price  style  \\\n",
       "0  멤버_464f9cc84f7d    기타        면       상의        5     남자  39000      0   \n",
       "1  멤버_464f9cc84f7d    카키        면       하의        5     남자  42000      0   \n",
       "2  멤버_464f9cc84f7d    기타        면       모자        5     남자  59000      0   \n",
       "3  멤버_464f9cc84f7d    블랙        면       상의        5     남자  35000      0   \n",
       "4  멤버_464f9cc84f7d  아이보리   면 아라미드       가방        5     남자  48000      1   \n",
       "\n",
       "   up_check  brand                                          url  \n",
       "0         0  119레오  https://www.musinsa.com/app/goods/1876547/0  \n",
       "1         0  119레오  https://www.musinsa.com/app/goods/2396824/0  \n",
       "2         0  119레오  https://www.musinsa.com/app/goods/2428013/0  \n",
       "3         0  119레오   https://www.musinsa.com/app/goods/470357/0  \n",
       "4         1  119레오  https://www.musinsa.com/app/goods/1766332/0  "
      ]
     },
     "execution_count": 3,
     "metadata": {},
     "output_type": "execute_result"
    }
   ],
   "source": [
    "# 불필요한 컬럼 제거\n",
    "raw.drop(['Unnamed: 0'], axis=1, inplace=True)\n",
    "raw.head()"
   ]
  },
  {
   "cell_type": "markdown",
   "id": "415bc08c",
   "metadata": {},
   "source": [
    "# 컬럼 합치기"
   ]
  },
  {
   "cell_type": "code",
   "execution_count": 4,
   "id": "0656da13",
   "metadata": {},
   "outputs": [
    {
     "name": "stdout",
     "output_type": "stream",
     "text": [
      "orginal_data_size: 715, filtered_data_size: 714\n",
      "Ratio of Remaining Data is 99.86%\n"
     ]
    }
   ],
   "source": [
    "orginal_data_size = len(raw)\n",
    "\n",
    "# rating 2점 이상만 사용\n",
    "raw = raw[raw['ratings']>=2]\n",
    "filtered_data_size = len(raw)\n",
    "\n",
    "print(f'orginal_data_size: {orginal_data_size}, filtered_data_size: {filtered_data_size}')\n",
    "print(f'Ratio of Remaining Data is {filtered_data_size / orginal_data_size:.2%}')"
   ]
  },
  {
   "cell_type": "code",
   "execution_count": 5,
   "id": "90da24ef",
   "metadata": {},
   "outputs": [
    {
     "data": {
      "text/html": [
       "<div>\n",
       "<style scoped>\n",
       "    .dataframe tbody tr th:only-of-type {\n",
       "        vertical-align: middle;\n",
       "    }\n",
       "\n",
       "    .dataframe tbody tr th {\n",
       "        vertical-align: top;\n",
       "    }\n",
       "\n",
       "    .dataframe thead th {\n",
       "        text-align: right;\n",
       "    }\n",
       "</style>\n",
       "<table border=\"1\" class=\"dataframe\">\n",
       "  <thead>\n",
       "    <tr style=\"text-align: right;\">\n",
       "      <th></th>\n",
       "      <th>user</th>\n",
       "      <th>up_check</th>\n",
       "      <th>brand</th>\n",
       "      <th>url</th>\n",
       "      <th>features</th>\n",
       "    </tr>\n",
       "  </thead>\n",
       "  <tbody>\n",
       "    <tr>\n",
       "      <th>0</th>\n",
       "      <td>멤버_464f9cc84f7d</td>\n",
       "      <td>0</td>\n",
       "      <td>119레오</td>\n",
       "      <td>https://www.musinsa.com/app/goods/1876547/0</td>\n",
       "      <td>기타 면 상의 5 남자 39000 0</td>\n",
       "    </tr>\n",
       "    <tr>\n",
       "      <th>1</th>\n",
       "      <td>멤버_464f9cc84f7d</td>\n",
       "      <td>0</td>\n",
       "      <td>119레오</td>\n",
       "      <td>https://www.musinsa.com/app/goods/2396824/0</td>\n",
       "      <td>카키 면 하의 5 남자 42000 0</td>\n",
       "    </tr>\n",
       "    <tr>\n",
       "      <th>2</th>\n",
       "      <td>멤버_464f9cc84f7d</td>\n",
       "      <td>0</td>\n",
       "      <td>119레오</td>\n",
       "      <td>https://www.musinsa.com/app/goods/2428013/0</td>\n",
       "      <td>기타 면 모자 5 남자 59000 0</td>\n",
       "    </tr>\n",
       "    <tr>\n",
       "      <th>3</th>\n",
       "      <td>멤버_464f9cc84f7d</td>\n",
       "      <td>0</td>\n",
       "      <td>119레오</td>\n",
       "      <td>https://www.musinsa.com/app/goods/470357/0</td>\n",
       "      <td>블랙 면 상의 5 남자 35000 0</td>\n",
       "    </tr>\n",
       "    <tr>\n",
       "      <th>4</th>\n",
       "      <td>멤버_464f9cc84f7d</td>\n",
       "      <td>1</td>\n",
       "      <td>119레오</td>\n",
       "      <td>https://www.musinsa.com/app/goods/1766332/0</td>\n",
       "      <td>아이보리 면 아라미드 가방 5 남자 48000 1</td>\n",
       "    </tr>\n",
       "    <tr>\n",
       "      <th>...</th>\n",
       "      <td>...</td>\n",
       "      <td>...</td>\n",
       "      <td>...</td>\n",
       "      <td>...</td>\n",
       "      <td>...</td>\n",
       "    </tr>\n",
       "    <tr>\n",
       "      <th>710</th>\n",
       "      <td>허싱싱</td>\n",
       "      <td>1</td>\n",
       "      <td>플리츠마마</td>\n",
       "      <td>https://www.musinsa.com/app/goods/2041227/0</td>\n",
       "      <td>기타 폴리에스터 폴리우레탄 가방 5 여자 59000 0</td>\n",
       "    </tr>\n",
       "    <tr>\n",
       "      <th>711</th>\n",
       "      <td>허싱싱</td>\n",
       "      <td>0</td>\n",
       "      <td>플리츠마마</td>\n",
       "      <td>https://www.musinsa.com/app/goods/2196725/0</td>\n",
       "      <td>아이보리 울 아크릴 모자 5 여자 35000 0</td>\n",
       "    </tr>\n",
       "    <tr>\n",
       "      <th>712</th>\n",
       "      <td>석재은</td>\n",
       "      <td>0</td>\n",
       "      <td>플리츠마마</td>\n",
       "      <td>https://www.musinsa.com/app/goods/2122170/0</td>\n",
       "      <td>베이지 아크릴 모자 5 여자 29000 0</td>\n",
       "    </tr>\n",
       "    <tr>\n",
       "      <th>713</th>\n",
       "      <td>석재은</td>\n",
       "      <td>0</td>\n",
       "      <td>플리츠마마</td>\n",
       "      <td>https://www.musinsa.com/app/goods/2064480/0</td>\n",
       "      <td>블랙 면 폴리에스터 상의 5 여자 138000 0</td>\n",
       "    </tr>\n",
       "    <tr>\n",
       "      <th>714</th>\n",
       "      <td>석재은</td>\n",
       "      <td>1</td>\n",
       "      <td>플리츠마마</td>\n",
       "      <td>https://www.musinsa.com/app/goods/1686958/0</td>\n",
       "      <td>블랙 폴리에스터 폴리우레탄 가방 5 여자 39000 0</td>\n",
       "    </tr>\n",
       "  </tbody>\n",
       "</table>\n",
       "<p>714 rows × 5 columns</p>\n",
       "</div>"
      ],
      "text/plain": [
       "                user  up_check  brand  \\\n",
       "0    멤버_464f9cc84f7d         0  119레오   \n",
       "1    멤버_464f9cc84f7d         0  119레오   \n",
       "2    멤버_464f9cc84f7d         0  119레오   \n",
       "3    멤버_464f9cc84f7d         0  119레오   \n",
       "4    멤버_464f9cc84f7d         1  119레오   \n",
       "..               ...       ...    ...   \n",
       "710              허싱싱         1  플리츠마마   \n",
       "711              허싱싱         0  플리츠마마   \n",
       "712              석재은         0  플리츠마마   \n",
       "713              석재은         0  플리츠마마   \n",
       "714              석재은         1  플리츠마마   \n",
       "\n",
       "                                             url  \\\n",
       "0    https://www.musinsa.com/app/goods/1876547/0   \n",
       "1    https://www.musinsa.com/app/goods/2396824/0   \n",
       "2    https://www.musinsa.com/app/goods/2428013/0   \n",
       "3     https://www.musinsa.com/app/goods/470357/0   \n",
       "4    https://www.musinsa.com/app/goods/1766332/0   \n",
       "..                                           ...   \n",
       "710  https://www.musinsa.com/app/goods/2041227/0   \n",
       "711  https://www.musinsa.com/app/goods/2196725/0   \n",
       "712  https://www.musinsa.com/app/goods/2122170/0   \n",
       "713  https://www.musinsa.com/app/goods/2064480/0   \n",
       "714  https://www.musinsa.com/app/goods/1686958/0   \n",
       "\n",
       "                           features  \n",
       "0              기타 면 상의 5 남자 39000 0  \n",
       "1              카키 면 하의 5 남자 42000 0  \n",
       "2              기타 면 모자 5 남자 59000 0  \n",
       "3              블랙 면 상의 5 남자 35000 0  \n",
       "4       아이보리 면 아라미드 가방 5 남자 48000 1  \n",
       "..                              ...  \n",
       "710  기타 폴리에스터 폴리우레탄 가방 5 여자 59000 0  \n",
       "711      아이보리 울 아크릴 모자 5 여자 35000 0  \n",
       "712         베이지 아크릴 모자 5 여자 29000 0  \n",
       "713     블랙 면 폴리에스터 상의 5 여자 138000 0  \n",
       "714  블랙 폴리에스터 폴리우레탄 가방 5 여자 39000 0  \n",
       "\n",
       "[714 rows x 5 columns]"
      ]
     },
     "execution_count": 5,
     "metadata": {},
     "output_type": "execute_result"
    }
   ],
   "source": [
    "cols = ['color', 'contents', 'category', 'ratings', 'gender', 'price', 'style']\n",
    "raw['features'] = raw[cols].apply(lambda row: ' '.join(row.values.astype(str)), axis=1)\n",
    "raw.drop(cols, axis=1, inplace=True)\n",
    "raw"
   ]
  },
  {
   "cell_type": "code",
   "execution_count": 6,
   "id": "a20f2f86",
   "metadata": {},
   "outputs": [
    {
     "data": {
      "text/html": [
       "<div>\n",
       "<style scoped>\n",
       "    .dataframe tbody tr th:only-of-type {\n",
       "        vertical-align: middle;\n",
       "    }\n",
       "\n",
       "    .dataframe tbody tr th {\n",
       "        vertical-align: top;\n",
       "    }\n",
       "\n",
       "    .dataframe thead th {\n",
       "        text-align: right;\n",
       "    }\n",
       "</style>\n",
       "<table border=\"1\" class=\"dataframe\">\n",
       "  <thead>\n",
       "    <tr style=\"text-align: right;\">\n",
       "      <th></th>\n",
       "      <th>user</th>\n",
       "      <th>features</th>\n",
       "      <th>brand</th>\n",
       "      <th>up_check</th>\n",
       "      <th>url</th>\n",
       "    </tr>\n",
       "  </thead>\n",
       "  <tbody>\n",
       "    <tr>\n",
       "      <th>0</th>\n",
       "      <td>멤버_464f9cc84f7d</td>\n",
       "      <td>기타 면 상의 5 남자 39000 0</td>\n",
       "      <td>119레오</td>\n",
       "      <td>0</td>\n",
       "      <td>https://www.musinsa.com/app/goods/1876547/0</td>\n",
       "    </tr>\n",
       "    <tr>\n",
       "      <th>1</th>\n",
       "      <td>멤버_464f9cc84f7d</td>\n",
       "      <td>카키 면 하의 5 남자 42000 0</td>\n",
       "      <td>119레오</td>\n",
       "      <td>0</td>\n",
       "      <td>https://www.musinsa.com/app/goods/2396824/0</td>\n",
       "    </tr>\n",
       "    <tr>\n",
       "      <th>2</th>\n",
       "      <td>멤버_464f9cc84f7d</td>\n",
       "      <td>기타 면 모자 5 남자 59000 0</td>\n",
       "      <td>119레오</td>\n",
       "      <td>0</td>\n",
       "      <td>https://www.musinsa.com/app/goods/2428013/0</td>\n",
       "    </tr>\n",
       "    <tr>\n",
       "      <th>3</th>\n",
       "      <td>멤버_464f9cc84f7d</td>\n",
       "      <td>블랙 면 상의 5 남자 35000 0</td>\n",
       "      <td>119레오</td>\n",
       "      <td>0</td>\n",
       "      <td>https://www.musinsa.com/app/goods/470357/0</td>\n",
       "    </tr>\n",
       "    <tr>\n",
       "      <th>4</th>\n",
       "      <td>멤버_464f9cc84f7d</td>\n",
       "      <td>아이보리 면 아라미드 가방 5 남자 48000 1</td>\n",
       "      <td>119레오</td>\n",
       "      <td>1</td>\n",
       "      <td>https://www.musinsa.com/app/goods/1766332/0</td>\n",
       "    </tr>\n",
       "  </tbody>\n",
       "</table>\n",
       "</div>"
      ],
      "text/plain": [
       "              user                     features  brand  up_check  \\\n",
       "0  멤버_464f9cc84f7d         기타 면 상의 5 남자 39000 0  119레오         0   \n",
       "1  멤버_464f9cc84f7d         카키 면 하의 5 남자 42000 0  119레오         0   \n",
       "2  멤버_464f9cc84f7d         기타 면 모자 5 남자 59000 0  119레오         0   \n",
       "3  멤버_464f9cc84f7d         블랙 면 상의 5 남자 35000 0  119레오         0   \n",
       "4  멤버_464f9cc84f7d  아이보리 면 아라미드 가방 5 남자 48000 1  119레오         1   \n",
       "\n",
       "                                           url  \n",
       "0  https://www.musinsa.com/app/goods/1876547/0  \n",
       "1  https://www.musinsa.com/app/goods/2396824/0  \n",
       "2  https://www.musinsa.com/app/goods/2428013/0  \n",
       "3   https://www.musinsa.com/app/goods/470357/0  \n",
       "4  https://www.musinsa.com/app/goods/1766332/0  "
      ]
     },
     "execution_count": 6,
     "metadata": {},
     "output_type": "execute_result"
    }
   ],
   "source": [
    "# 컬럼 순서 정리\n",
    "raw = raw[['user', 'features', 'brand', 'up_check', 'url']]\n",
    "raw.head()"
   ]
  },
  {
   "cell_type": "code",
   "execution_count": 7,
   "id": "74f30f12",
   "metadata": {},
   "outputs": [
    {
     "data": {
      "text/html": [
       "<div>\n",
       "<style scoped>\n",
       "    .dataframe tbody tr th:only-of-type {\n",
       "        vertical-align: middle;\n",
       "    }\n",
       "\n",
       "    .dataframe tbody tr th {\n",
       "        vertical-align: top;\n",
       "    }\n",
       "\n",
       "    .dataframe thead th {\n",
       "        text-align: right;\n",
       "    }\n",
       "</style>\n",
       "<table border=\"1\" class=\"dataframe\">\n",
       "  <thead>\n",
       "    <tr style=\"text-align: right;\">\n",
       "      <th></th>\n",
       "      <th>user</th>\n",
       "      <th>features</th>\n",
       "      <th>brand</th>\n",
       "    </tr>\n",
       "  </thead>\n",
       "  <tbody>\n",
       "    <tr>\n",
       "      <th>0</th>\n",
       "      <td>멤버_464f9cc84f7d</td>\n",
       "      <td>기타 면 상의 5 남자 39000 0</td>\n",
       "      <td>119레오</td>\n",
       "    </tr>\n",
       "    <tr>\n",
       "      <th>1</th>\n",
       "      <td>멤버_464f9cc84f7d</td>\n",
       "      <td>카키 면 하의 5 남자 42000 0</td>\n",
       "      <td>119레오</td>\n",
       "    </tr>\n",
       "    <tr>\n",
       "      <th>2</th>\n",
       "      <td>멤버_464f9cc84f7d</td>\n",
       "      <td>기타 면 모자 5 남자 59000 0</td>\n",
       "      <td>119레오</td>\n",
       "    </tr>\n",
       "    <tr>\n",
       "      <th>3</th>\n",
       "      <td>멤버_464f9cc84f7d</td>\n",
       "      <td>블랙 면 상의 5 남자 35000 0</td>\n",
       "      <td>119레오</td>\n",
       "    </tr>\n",
       "    <tr>\n",
       "      <th>4</th>\n",
       "      <td>멤버_464f9cc84f7d</td>\n",
       "      <td>아이보리 면 아라미드 가방 5 남자 48000 1</td>\n",
       "      <td>119레오</td>\n",
       "    </tr>\n",
       "  </tbody>\n",
       "</table>\n",
       "</div>"
      ],
      "text/plain": [
       "              user                     features  brand\n",
       "0  멤버_464f9cc84f7d         기타 면 상의 5 남자 39000 0  119레오\n",
       "1  멤버_464f9cc84f7d         카키 면 하의 5 남자 42000 0  119레오\n",
       "2  멤버_464f9cc84f7d         기타 면 모자 5 남자 59000 0  119레오\n",
       "3  멤버_464f9cc84f7d         블랙 면 상의 5 남자 35000 0  119레오\n",
       "4  멤버_464f9cc84f7d  아이보리 면 아라미드 가방 5 남자 48000 1  119레오"
      ]
     },
     "execution_count": 7,
     "metadata": {},
     "output_type": "execute_result"
    }
   ],
   "source": [
    "# 데이터 프레임 재정의\n",
    "new_df = raw[['user', 'features', 'brand']]\n",
    "new_df.head()"
   ]
  },
  {
   "cell_type": "markdown",
   "id": "99a27902",
   "metadata": {},
   "source": [
    "# 코사인유사도(비슷한 브랜드 찾기)"
   ]
  },
  {
   "cell_type": "markdown",
   "id": "382cb0d1",
   "metadata": {},
   "source": [
    "[참고사이트](https://github.com/yoonsungsong/TIL/blob/main/RecommenderSytem/TF-IDF_info_and_project.ipynb)"
   ]
  },
  {
   "cell_type": "code",
   "execution_count": 8,
   "id": "3087dcf1",
   "metadata": {},
   "outputs": [
    {
     "name": "stdout",
     "output_type": "stream",
     "text": [
      "(714, 244)\n"
     ]
    }
   ],
   "source": [
    "# TreebankWord 토크나이저 사용\n",
    "tb_tokenizer = TreebankWordTokenizer()\n",
    "\n",
    "# TF-IDF 벡터화\n",
    "tfidf = TfidfVectorizer(tokenizer=tb_tokenizer.tokenize)\n",
    "\n",
    "tfidf_matrix = tfidf.fit_transform(new_df['features'])\n",
    "\n",
    "print(tfidf_matrix.shape)"
   ]
  },
  {
   "cell_type": "code",
   "execution_count": 9,
   "id": "a55dced4",
   "metadata": {},
   "outputs": [
    {
     "name": "stdout",
     "output_type": "stream",
     "text": [
      "(714, 714)\n"
     ]
    }
   ],
   "source": [
    "# 코사인 유사도 매트릭스\n",
    "cosine_matrix = cosine_similarity(tfidf_matrix, tfidf_matrix)\n",
    "\n",
    "print(cosine_matrix.shape)"
   ]
  },
  {
   "cell_type": "code",
   "execution_count": 10,
   "id": "8c0f17a1",
   "metadata": {},
   "outputs": [
    {
     "data": {
      "text/plain": [
       "array([[1.    , 0.2028, 0.4636, ..., 0.0499, 0.1976, 0.4046],\n",
       "       [0.2028, 1.    , 0.1742, ..., 0.0412, 0.1035, 0.0543],\n",
       "       [0.4636, 0.1742, 1.    , ..., 0.2094, 0.1076, 0.0564],\n",
       "       ...,\n",
       "       [0.0499, 0.0412, 0.2094, ..., 1.    , 0.1002, 0.1065],\n",
       "       [0.1976, 0.1035, 0.1076, ..., 0.1002, 1.    , 0.3141],\n",
       "       [0.4046, 0.0543, 0.0564, ..., 0.1065, 0.3141, 1.    ]])"
      ]
     },
     "execution_count": 10,
     "metadata": {},
     "output_type": "execute_result"
    }
   ],
   "source": [
    "np.round(cosine_matrix, 4)"
   ]
  },
  {
   "cell_type": "code",
   "execution_count": 11,
   "id": "2288f3d9",
   "metadata": {},
   "outputs": [],
   "source": [
    "# brand 와 id 를 매핑할 dictionary 를 생성\n",
    "brand2id = {}\n",
    "for i, c in enumerate(new_df['brand']): brand2id[i] = c\n",
    "\n",
    "# id 와 brand 를 매핑할 dictionary 를 생성\n",
    "id2brand = {}\n",
    "for i, c in brand2id.items(): id2brand[c] = i"
   ]
  },
  {
   "cell_type": "code",
   "execution_count": 12,
   "id": "30397140",
   "metadata": {},
   "outputs": [
    {
     "data": {
      "text/plain": [
       "[(0, 0.22618854926142679),\n",
       " (1, 0.11847107726156553),\n",
       " (2, 0.12318260387124363),\n",
       " (3, 0.19763430295604373),\n",
       " (4, 0.06533139967833543),\n",
       " (5, 0.21573973748896424),\n",
       " (6, 0.12277659543125827),\n",
       " (7, 0.13514912708631527),\n",
       " (8, 0.12850244095609595),\n",
       " (9, 0.16807992009464295)]"
      ]
     },
     "execution_count": 12,
     "metadata": {},
     "output_type": "execute_result"
    }
   ],
   "source": [
    "idx = id2brand['119레오'] # 119레오 의 id 추출\n",
    "sim_scores = [(i, c) for i, c in enumerate(cosine_matrix[idx]) if i != idx] # 자기 자신을 제외한 유사도 및 인덱스를 추출\n",
    "sim_scores[:10]"
   ]
  },
  {
   "cell_type": "code",
   "execution_count": 13,
   "id": "7e783c43",
   "metadata": {},
   "outputs": [
    {
     "data": {
      "text/plain": [
       "[(498, 1.0000000000000002),\n",
       " (638, 0.9494197904496875),\n",
       " (22, 0.9118393136364745),\n",
       " (394, 0.9067803530307393),\n",
       " (21, 0.803493267014111),\n",
       " (247, 0.803493267014111),\n",
       " (572, 0.803493267014111),\n",
       " (27, 0.7367897457906442),\n",
       " (691, 0.7079851730717274),\n",
       " (395, 0.7029252615711632)]"
      ]
     },
     "execution_count": 13,
     "metadata": {},
     "output_type": "execute_result"
    }
   ],
   "source": [
    "# 유사도가 높은 순수대로 정렬\n",
    "sim_scores = sorted(sim_scores, key = lambda x: x[1], reverse=True)\n",
    "sim_scores[0:10] # 상위 10개의 인덱스 유사도 추출"
   ]
  },
  {
   "cell_type": "code",
   "execution_count": 14,
   "id": "a8852178",
   "metadata": {},
   "outputs": [
    {
     "data": {
      "text/plain": [
       "[('큐클리프', 1.0000000000000002),\n",
       " ('플리츠마마', 0.9494197904496875),\n",
       " ('119레오', 0.9118393136364745),\n",
       " ('오버랩업사이클', 0.9067803530307393),\n",
       " ('119레오', 0.803493267014111),\n",
       " ('누깍', 0.803493267014111),\n",
       " ('플리츠마마', 0.803493267014111),\n",
       " ('119레오', 0.7367897457906442),\n",
       " ('플리츠마마', 0.7079851730717274),\n",
       " ('오버랩업사이클', 0.7029252615711632)]"
      ]
     },
     "execution_count": 14,
     "metadata": {},
     "output_type": "execute_result"
    }
   ],
   "source": [
    "# 인덱스에 해당되는 brand가 무엇인지 모르기 때문에 아까 만들어둔 brand2id 딕셔너리에 적용해준다\n",
    "sim_scores = [(brand2id[i], score) for i, score in sim_scores[0:10]]\n",
    "sim_scores"
   ]
  },
  {
   "cell_type": "markdown",
   "id": "4b468e49",
   "metadata": {},
   "source": [
    "# 코사인 유사도(비슷한 유저 찾기)"
   ]
  },
  {
   "cell_type": "code",
   "execution_count": 15,
   "id": "bbb3316a",
   "metadata": {},
   "outputs": [],
   "source": [
    "# user 와 id 를 매핑할 dictionary 를 생성\n",
    "user2id = {}\n",
    "for i, c in enumerate(new_df['user']): user2id[i] = c\n",
    "\n",
    "# id 와 user 를 매핑할 dictionary 를 생성\n",
    "id2user = {}\n",
    "for i, c in user2id.items(): id2user[c] = i"
   ]
  },
  {
   "cell_type": "code",
   "execution_count": 16,
   "id": "591e9e7e",
   "metadata": {},
   "outputs": [
    {
     "data": {
      "text/plain": [
       "[(0, 0.19205709076308053),\n",
       " (1, 0.10587235033345828),\n",
       " (2, 0.1100828328187651),\n",
       " (3, 0.24773178884941316),\n",
       " (4, 0.061224900718873154),\n",
       " (5, 0.18318498650535886),\n",
       " (6, 0.06824813075373383),\n",
       " (7, 0.07821833380520717),\n",
       " (8, 0.01618274761408911),\n",
       " (9, 0.1996708968763226)]"
      ]
     },
     "execution_count": 16,
     "metadata": {},
     "output_type": "execute_result"
    }
   ],
   "source": [
    "idx = id2user['박소금소금소금'] # 박소금소금소금 의 id 추출\n",
    "sim_scores = [(i, c) for i, c in enumerate(cosine_matrix[idx]) if i != idx] # 자기 자신을 제외한 유사도 및 인덱스를 추출\n",
    "sim_scores[:10]"
   ]
  },
  {
   "cell_type": "code",
   "execution_count": 17,
   "id": "ebc97753",
   "metadata": {},
   "outputs": [
    {
     "data": {
      "text/plain": [
       "[(213, 0.3075697398494499),\n",
       " (104, 0.30689973404603255),\n",
       " (699, 0.30689973404603255),\n",
       " (191, 0.2994447398579822),\n",
       " (423, 0.2994447398579822),\n",
       " (437, 0.29931335294625194),\n",
       " (395, 0.2973415399110205),\n",
       " (306, 0.2917254911245464),\n",
       " (382, 0.29023448194555096),\n",
       " (193, 0.29004499475919066)]"
      ]
     },
     "execution_count": 17,
     "metadata": {},
     "output_type": "execute_result"
    }
   ],
   "source": [
    "# 유사도가 높은 순수대로 정렬\n",
    "sim_scores = sorted(sim_scores, key = lambda x: x[1], reverse=True)\n",
    "sim_scores[0:10] # 상위 10개의 인덱스 유사도 추출"
   ]
  },
  {
   "cell_type": "code",
   "execution_count": 18,
   "id": "2371c2f6",
   "metadata": {},
   "outputs": [
    {
     "data": {
      "text/plain": [
       "[('J flora', '누깍', 0.3075697398494499),\n",
       " ('병789기', '누깍', 0.30689973404603255),\n",
       " ('jjunnyy', '플리츠마마', 0.30689973404603255),\n",
       " ('칸쵸쵸칸', '누깍', 0.2994447398579822),\n",
       " ('dailylooked', '오버랩업사이클', 0.2994447398579822),\n",
       " ('뉴비_3dc706f3', '카네이테이', 0.29931335294625194),\n",
       " ('ZZOOst', '오버랩업사이클', 0.2973415399110205),\n",
       " ('불꽃남자$', '오버랩업사이클', 0.2917254911245464),\n",
       " ('bon05', '오버랩업사이클', 0.29023448194555096),\n",
       " ('칸쵸쵸칸', '누깍', 0.29004499475919066)]"
      ]
     },
     "execution_count": 18,
     "metadata": {},
     "output_type": "execute_result"
    }
   ],
   "source": [
    "# 만들어 둔 딕셔너리에 적용해 user id 와 brand 확인\n",
    "sim_scores = [(user2id[i], brand2id[i], score) for i, score in sim_scores[0:10]]\n",
    "sim_scores"
   ]
  },
  {
   "cell_type": "markdown",
   "id": "78036d6a",
   "metadata": {},
   "source": [
    "# 코사인 유사도(함수로 만들기)"
   ]
  },
  {
   "cell_type": "code",
   "execution_count": 19,
   "id": "fd33d450",
   "metadata": {},
   "outputs": [],
   "source": [
    "def simil_brand():\n",
    "    \n",
    "    new_user = input('새로운 user 이름을 입력하세요 : ')\n",
    "    new_feature = input('새로운 아이템의 feature를 입력하세요 : ')\n",
    "    print('\\n')\n",
    "    \n",
    "    # 데이터 마지막행에 추가\n",
    "    new_data = {'user' : new_user, 'features' : new_feature}\n",
    "    new_raw = raw.append(new_data, ignore_index = True)\n",
    "    \n",
    "    # 토큰화 & 벡터화\n",
    "    tb_tokenizer = TreebankWordTokenizer()\n",
    "\n",
    "    tfidf = TfidfVectorizer(tokenizer=tb_tokenizer.tokenize)\n",
    "\n",
    "    tfidf_matrix = tfidf.fit_transform(new_raw['features'])\n",
    "    \n",
    "    # 코사인 매트릭스\n",
    "    cosine_matrix = cosine_similarity(tfidf_matrix, tfidf_matrix)\n",
    "    cosine_matrix.shape\n",
    "\n",
    "    np.round(cosine_matrix, 4)\n",
    "\n",
    "    # brand 와 id 를 매핑할 dictionary 를 생성\n",
    "    brand2id = {}\n",
    "    for i, c in enumerate(new_raw['brand']): brand2id[i] = c\n",
    "\n",
    "    # id 와 brand 를 매핑할 dictionary 를 생성\n",
    "    id2brand = {}\n",
    "    for i, c in brand2id.items(): id2brand[c] = i\n",
    "        \n",
    "    # user 와 id 를 매핑할 dictionary 를 생성\n",
    "    user2id = {}\n",
    "    for i, c in enumerate(new_raw['user']): user2id[i] = c\n",
    "\n",
    "    # id 와 user 를 매핑할 dictionary 를 생성\n",
    "    id2user = {}\n",
    "    for i, c in user2id.items(): id2user[c] = i\n",
    "\n",
    "    idx = id2user[new_user]\n",
    "    sim_scores = [(i, c) for i, c in enumerate(cosine_matrix[idx]) if i != idx] # 자기 자신을 제외한 유사도 및 인덱스를 추출\n",
    "    \n",
    "    # 유사도가 높은 순수대로 정렬\n",
    "    sim_scores = sorted(sim_scores, key = lambda x: x[1], reverse=True)\n",
    "    \n",
    "    # 만들어 둔 딕셔너리에 적용해 user id 와 brand 확인\n",
    "    sim_scores = [(user2id[i], brand2id[i], score) for i, score in sim_scores[0:10]]\n",
    "    \n",
    "    # 결과 문구 작성\n",
    "    sim_user = print(f\"당신과 비슷한 유저는 {sim_scores[0][0], sim_scores[1][0], sim_scores[2][0]} 입니다.\", \"\\n\")\n",
    "    \n",
    "    item1 = raw[(raw.user == sim_scores[0][0]) & (raw.up_check == 1)]['url']\n",
    "    item2 = raw[(raw.user == sim_scores[1][0]) & (raw.up_check == 1)]['url']\n",
    "    item3 = raw[(raw.user == sim_scores[2][0]) & (raw.up_check == 1)]['url']\n",
    "    \n",
    "    sim_item1 = print(\"당신과 비슷한 유저인\", sim_scores[0][0],\"이(가) 구매한 업사이클링 아이템은\", sim_scores[0][1], item1, \"입니다.\", \"\\n\")\n",
    "    sim_item2 = print(\"당신과 비슷한 유저인\", sim_scores[1][0],\"이(가) 구매한 업사이클링 아이템은\", sim_scores[2][1], item2, \"입니다.\", \"\\n\")\n",
    "    sim_item3 = print(\"당신과 비슷한 유저인\", sim_scores[2][0],\"이(가) 구매한 업사이클링 아이템은\", sim_scores[3][1], item3, \"입니다.\")\n",
    "\n",
    "    return sim_user, sim_item1, sim_item2, sim_item3"
   ]
  },
  {
   "cell_type": "code",
   "execution_count": 20,
   "id": "e60139d8",
   "metadata": {},
   "outputs": [
    {
     "name": "stdout",
     "output_type": "stream",
     "text": [
      "새로운 user 이름을 입력하세요 : 경은이\n",
      "새로운 아이템의 feature를 입력하세요 : 블랙 면 상의 5 여자 35000 0\n",
      "\n",
      "\n",
      "당신과 비슷한 유저는 ('멤버_464f9cc84f7d', 'bon05', '제티200') 입니다. \n",
      "\n",
      "당신과 비슷한 유저인 멤버_464f9cc84f7d 이(가) 구매한 업사이클링 아이템은 119레오 4    https://www.musinsa.com/app/goods/1766332/0\n",
      "Name: url, dtype: object 입니다. \n",
      "\n",
      "당신과 비슷한 유저인 bon05 이(가) 구매한 업사이클링 아이템은 오버랩업사이클 384    https://www.musinsa.com/app/goods/1817386/0\n",
      "Name: url, dtype: object 입니다. \n",
      "\n",
      "당신과 비슷한 유저인 제티200 이(가) 구매한 업사이클링 아이템은 큐클리프 325    https://www.musinsa.com/app/goods/1817386/0\n",
      "Name: url, dtype: object 입니다.\n"
     ]
    },
    {
     "data": {
      "text/plain": [
       "(None, None, None, None)"
      ]
     },
     "execution_count": 20,
     "metadata": {},
     "output_type": "execute_result"
    }
   ],
   "source": [
    "simil_brand()"
   ]
  },
  {
   "cell_type": "code",
   "execution_count": null,
   "id": "acb683a7",
   "metadata": {},
   "outputs": [],
   "source": []
  }
 ],
 "metadata": {
  "kernelspec": {
   "display_name": "Python 3",
   "language": "python",
   "name": "python3"
  },
  "language_info": {
   "codemirror_mode": {
    "name": "ipython",
    "version": 3
   },
   "file_extension": ".py",
   "mimetype": "text/x-python",
   "name": "python",
   "nbconvert_exporter": "python",
   "pygments_lexer": "ipython3",
   "version": "3.8.8"
  }
 },
 "nbformat": 4,
 "nbformat_minor": 5
}

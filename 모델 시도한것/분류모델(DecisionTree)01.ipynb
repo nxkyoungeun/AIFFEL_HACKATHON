{
 "cells": [
  {
   "cell_type": "code",
   "execution_count": 1,
   "id": "d3d7875b",
   "metadata": {},
   "outputs": [],
   "source": [
    "import pandas as pd\n",
    "\n",
    "import nltk\n",
    "from nltk.tokenize import TreebankWordTokenizer\n",
    "\n",
    "from sklearn.model_selection import train_test_split\n",
    "from sklearn.feature_extraction.text import TfidfVectorizer\n",
    "\n",
    "from sklearn.tree import DecisionTreeClassifier\n",
    "\n",
    "from sklearn.metrics import accuracy_score, precision_score, recall_score, confusion_matrix\n",
    "from sklearn.metrics import f1_score"
   ]
  },
  {
   "cell_type": "code",
   "execution_count": 2,
   "id": "3514131d",
   "metadata": {},
   "outputs": [
    {
     "name": "stdout",
     "output_type": "stream",
     "text": [
      "(715, 12)\n"
     ]
    },
    {
     "data": {
      "text/html": [
       "<div>\n",
       "<style scoped>\n",
       "    .dataframe tbody tr th:only-of-type {\n",
       "        vertical-align: middle;\n",
       "    }\n",
       "\n",
       "    .dataframe tbody tr th {\n",
       "        vertical-align: top;\n",
       "    }\n",
       "\n",
       "    .dataframe thead th {\n",
       "        text-align: right;\n",
       "    }\n",
       "</style>\n",
       "<table border=\"1\" class=\"dataframe\">\n",
       "  <thead>\n",
       "    <tr style=\"text-align: right;\">\n",
       "      <th></th>\n",
       "      <th>Unnamed: 0</th>\n",
       "      <th>user</th>\n",
       "      <th>color</th>\n",
       "      <th>contents</th>\n",
       "      <th>category</th>\n",
       "      <th>ratings</th>\n",
       "      <th>gender</th>\n",
       "      <th>price</th>\n",
       "      <th>style</th>\n",
       "      <th>up_check</th>\n",
       "      <th>brand</th>\n",
       "      <th>url</th>\n",
       "    </tr>\n",
       "  </thead>\n",
       "  <tbody>\n",
       "    <tr>\n",
       "      <th>0</th>\n",
       "      <td>0</td>\n",
       "      <td>멤버_464f9cc84f7d</td>\n",
       "      <td>기타</td>\n",
       "      <td>면</td>\n",
       "      <td>상의</td>\n",
       "      <td>5</td>\n",
       "      <td>남자</td>\n",
       "      <td>39000</td>\n",
       "      <td>0</td>\n",
       "      <td>0</td>\n",
       "      <td>119레오</td>\n",
       "      <td>https://www.musinsa.com/app/goods/1876547/0</td>\n",
       "    </tr>\n",
       "    <tr>\n",
       "      <th>1</th>\n",
       "      <td>1</td>\n",
       "      <td>멤버_464f9cc84f7d</td>\n",
       "      <td>카키</td>\n",
       "      <td>면</td>\n",
       "      <td>하의</td>\n",
       "      <td>5</td>\n",
       "      <td>남자</td>\n",
       "      <td>42000</td>\n",
       "      <td>0</td>\n",
       "      <td>0</td>\n",
       "      <td>119레오</td>\n",
       "      <td>https://www.musinsa.com/app/goods/2396824/0</td>\n",
       "    </tr>\n",
       "    <tr>\n",
       "      <th>2</th>\n",
       "      <td>2</td>\n",
       "      <td>멤버_464f9cc84f7d</td>\n",
       "      <td>기타</td>\n",
       "      <td>면</td>\n",
       "      <td>모자</td>\n",
       "      <td>5</td>\n",
       "      <td>남자</td>\n",
       "      <td>59000</td>\n",
       "      <td>0</td>\n",
       "      <td>0</td>\n",
       "      <td>119레오</td>\n",
       "      <td>https://www.musinsa.com/app/goods/2428013/0</td>\n",
       "    </tr>\n",
       "    <tr>\n",
       "      <th>3</th>\n",
       "      <td>3</td>\n",
       "      <td>멤버_464f9cc84f7d</td>\n",
       "      <td>블랙</td>\n",
       "      <td>면</td>\n",
       "      <td>상의</td>\n",
       "      <td>5</td>\n",
       "      <td>남자</td>\n",
       "      <td>35000</td>\n",
       "      <td>0</td>\n",
       "      <td>0</td>\n",
       "      <td>119레오</td>\n",
       "      <td>https://www.musinsa.com/app/goods/470357/0</td>\n",
       "    </tr>\n",
       "    <tr>\n",
       "      <th>4</th>\n",
       "      <td>4</td>\n",
       "      <td>멤버_464f9cc84f7d</td>\n",
       "      <td>아이보리</td>\n",
       "      <td>면 아라미드</td>\n",
       "      <td>가방</td>\n",
       "      <td>5</td>\n",
       "      <td>남자</td>\n",
       "      <td>48000</td>\n",
       "      <td>1</td>\n",
       "      <td>1</td>\n",
       "      <td>119레오</td>\n",
       "      <td>https://www.musinsa.com/app/goods/1766332/0</td>\n",
       "    </tr>\n",
       "  </tbody>\n",
       "</table>\n",
       "</div>"
      ],
      "text/plain": [
       "   Unnamed: 0             user color contents category  ratings gender  price  \\\n",
       "0           0  멤버_464f9cc84f7d    기타        면       상의        5     남자  39000   \n",
       "1           1  멤버_464f9cc84f7d    카키        면       하의        5     남자  42000   \n",
       "2           2  멤버_464f9cc84f7d    기타        면       모자        5     남자  59000   \n",
       "3           3  멤버_464f9cc84f7d    블랙        면       상의        5     남자  35000   \n",
       "4           4  멤버_464f9cc84f7d  아이보리   면 아라미드       가방        5     남자  48000   \n",
       "\n",
       "   style  up_check  brand                                          url  \n",
       "0      0         0  119레오  https://www.musinsa.com/app/goods/1876547/0  \n",
       "1      0         0  119레오  https://www.musinsa.com/app/goods/2396824/0  \n",
       "2      0         0  119레오  https://www.musinsa.com/app/goods/2428013/0  \n",
       "3      0         0  119레오   https://www.musinsa.com/app/goods/470357/0  \n",
       "4      1         1  119레오  https://www.musinsa.com/app/goods/1766332/0  "
      ]
     },
     "execution_count": 2,
     "metadata": {},
     "output_type": "execute_result"
    }
   ],
   "source": [
    "# 전처리 끝낸 데이터 불러오기\n",
    "raw = pd.read_csv('/Users/mac/AIFFEL/hackathon/new_musinsa(upcycling).csv', engine='python')\n",
    "print(raw.shape)\n",
    "raw.head()"
   ]
  },
  {
   "cell_type": "code",
   "execution_count": 3,
   "id": "ee7a7d58",
   "metadata": {},
   "outputs": [
    {
     "data": {
      "text/html": [
       "<div>\n",
       "<style scoped>\n",
       "    .dataframe tbody tr th:only-of-type {\n",
       "        vertical-align: middle;\n",
       "    }\n",
       "\n",
       "    .dataframe tbody tr th {\n",
       "        vertical-align: top;\n",
       "    }\n",
       "\n",
       "    .dataframe thead th {\n",
       "        text-align: right;\n",
       "    }\n",
       "</style>\n",
       "<table border=\"1\" class=\"dataframe\">\n",
       "  <thead>\n",
       "    <tr style=\"text-align: right;\">\n",
       "      <th></th>\n",
       "      <th>color</th>\n",
       "      <th>contents</th>\n",
       "      <th>category</th>\n",
       "      <th>ratings</th>\n",
       "      <th>gender</th>\n",
       "      <th>price</th>\n",
       "      <th>style</th>\n",
       "      <th>brand</th>\n",
       "    </tr>\n",
       "  </thead>\n",
       "  <tbody>\n",
       "    <tr>\n",
       "      <th>0</th>\n",
       "      <td>기타</td>\n",
       "      <td>면</td>\n",
       "      <td>상의</td>\n",
       "      <td>5</td>\n",
       "      <td>남자</td>\n",
       "      <td>39000</td>\n",
       "      <td>0</td>\n",
       "      <td>119레오</td>\n",
       "    </tr>\n",
       "    <tr>\n",
       "      <th>1</th>\n",
       "      <td>카키</td>\n",
       "      <td>면</td>\n",
       "      <td>하의</td>\n",
       "      <td>5</td>\n",
       "      <td>남자</td>\n",
       "      <td>42000</td>\n",
       "      <td>0</td>\n",
       "      <td>119레오</td>\n",
       "    </tr>\n",
       "    <tr>\n",
       "      <th>2</th>\n",
       "      <td>기타</td>\n",
       "      <td>면</td>\n",
       "      <td>모자</td>\n",
       "      <td>5</td>\n",
       "      <td>남자</td>\n",
       "      <td>59000</td>\n",
       "      <td>0</td>\n",
       "      <td>119레오</td>\n",
       "    </tr>\n",
       "    <tr>\n",
       "      <th>3</th>\n",
       "      <td>블랙</td>\n",
       "      <td>면</td>\n",
       "      <td>상의</td>\n",
       "      <td>5</td>\n",
       "      <td>남자</td>\n",
       "      <td>35000</td>\n",
       "      <td>0</td>\n",
       "      <td>119레오</td>\n",
       "    </tr>\n",
       "    <tr>\n",
       "      <th>4</th>\n",
       "      <td>아이보리</td>\n",
       "      <td>면 아라미드</td>\n",
       "      <td>가방</td>\n",
       "      <td>5</td>\n",
       "      <td>남자</td>\n",
       "      <td>48000</td>\n",
       "      <td>1</td>\n",
       "      <td>119레오</td>\n",
       "    </tr>\n",
       "  </tbody>\n",
       "</table>\n",
       "</div>"
      ],
      "text/plain": [
       "  color contents category  ratings gender  price  style  brand\n",
       "0    기타        면       상의        5     남자  39000      0  119레오\n",
       "1    카키        면       하의        5     남자  42000      0  119레오\n",
       "2    기타        면       모자        5     남자  59000      0  119레오\n",
       "3    블랙        면       상의        5     남자  35000      0  119레오\n",
       "4  아이보리   면 아라미드       가방        5     남자  48000      1  119레오"
      ]
     },
     "execution_count": 3,
     "metadata": {},
     "output_type": "execute_result"
    }
   ],
   "source": [
    "# 불필요한 컬럼 제거\n",
    "raw.drop(['Unnamed: 0', 'user', 'up_check', 'url'], axis=1, inplace=True)\n",
    "raw.head()"
   ]
  },
  {
   "cell_type": "code",
   "execution_count": 4,
   "id": "18b33793",
   "metadata": {},
   "outputs": [
    {
     "name": "stdout",
     "output_type": "stream",
     "text": [
      "orginal_data_size: 715, filtered_data_size: 714\n",
      "Ratio of Remaining Data is 99.86%\n"
     ]
    }
   ],
   "source": [
    "# rating 2점 이상만 사용\n",
    "orginal_data_size = len(raw)\n",
    "raw = raw[raw['ratings']>=2]\n",
    "filtered_data_size = len(raw)\n",
    "\n",
    "print(f'orginal_data_size: {orginal_data_size}, filtered_data_size: {filtered_data_size}')\n",
    "print(f'Ratio of Remaining Data is {filtered_data_size / orginal_data_size:.2%}')"
   ]
  },
  {
   "cell_type": "code",
   "execution_count": 6,
   "id": "409f6ec3",
   "metadata": {},
   "outputs": [
    {
     "data": {
      "text/html": [
       "<div>\n",
       "<style scoped>\n",
       "    .dataframe tbody tr th:only-of-type {\n",
       "        vertical-align: middle;\n",
       "    }\n",
       "\n",
       "    .dataframe tbody tr th {\n",
       "        vertical-align: top;\n",
       "    }\n",
       "\n",
       "    .dataframe thead th {\n",
       "        text-align: right;\n",
       "    }\n",
       "</style>\n",
       "<table border=\"1\" class=\"dataframe\">\n",
       "  <thead>\n",
       "    <tr style=\"text-align: right;\">\n",
       "      <th></th>\n",
       "      <th>brand</th>\n",
       "      <th>features</th>\n",
       "    </tr>\n",
       "  </thead>\n",
       "  <tbody>\n",
       "    <tr>\n",
       "      <th>0</th>\n",
       "      <td>119레오</td>\n",
       "      <td>기타 면 상의 5 남자 39000 0</td>\n",
       "    </tr>\n",
       "    <tr>\n",
       "      <th>1</th>\n",
       "      <td>119레오</td>\n",
       "      <td>카키 면 하의 5 남자 42000 0</td>\n",
       "    </tr>\n",
       "    <tr>\n",
       "      <th>2</th>\n",
       "      <td>119레오</td>\n",
       "      <td>기타 면 모자 5 남자 59000 0</td>\n",
       "    </tr>\n",
       "    <tr>\n",
       "      <th>3</th>\n",
       "      <td>119레오</td>\n",
       "      <td>블랙 면 상의 5 남자 35000 0</td>\n",
       "    </tr>\n",
       "    <tr>\n",
       "      <th>4</th>\n",
       "      <td>119레오</td>\n",
       "      <td>아이보리 면 아라미드 가방 5 남자 48000 1</td>\n",
       "    </tr>\n",
       "    <tr>\n",
       "      <th>...</th>\n",
       "      <td>...</td>\n",
       "      <td>...</td>\n",
       "    </tr>\n",
       "    <tr>\n",
       "      <th>710</th>\n",
       "      <td>플리츠마마</td>\n",
       "      <td>기타 폴리에스터 폴리우레탄 가방 5 여자 59000 0</td>\n",
       "    </tr>\n",
       "    <tr>\n",
       "      <th>711</th>\n",
       "      <td>플리츠마마</td>\n",
       "      <td>아이보리 울 아크릴 모자 5 여자 35000 0</td>\n",
       "    </tr>\n",
       "    <tr>\n",
       "      <th>712</th>\n",
       "      <td>플리츠마마</td>\n",
       "      <td>베이지 아크릴 모자 5 여자 29000 0</td>\n",
       "    </tr>\n",
       "    <tr>\n",
       "      <th>713</th>\n",
       "      <td>플리츠마마</td>\n",
       "      <td>블랙 면 폴리에스터 상의 5 여자 138000 0</td>\n",
       "    </tr>\n",
       "    <tr>\n",
       "      <th>714</th>\n",
       "      <td>플리츠마마</td>\n",
       "      <td>블랙 폴리에스터 폴리우레탄 가방 5 여자 39000 0</td>\n",
       "    </tr>\n",
       "  </tbody>\n",
       "</table>\n",
       "<p>714 rows × 2 columns</p>\n",
       "</div>"
      ],
      "text/plain": [
       "     brand                        features\n",
       "0    119레오            기타 면 상의 5 남자 39000 0\n",
       "1    119레오            카키 면 하의 5 남자 42000 0\n",
       "2    119레오            기타 면 모자 5 남자 59000 0\n",
       "3    119레오            블랙 면 상의 5 남자 35000 0\n",
       "4    119레오     아이보리 면 아라미드 가방 5 남자 48000 1\n",
       "..     ...                             ...\n",
       "710  플리츠마마  기타 폴리에스터 폴리우레탄 가방 5 여자 59000 0\n",
       "711  플리츠마마      아이보리 울 아크릴 모자 5 여자 35000 0\n",
       "712  플리츠마마         베이지 아크릴 모자 5 여자 29000 0\n",
       "713  플리츠마마     블랙 면 폴리에스터 상의 5 여자 138000 0\n",
       "714  플리츠마마  블랙 폴리에스터 폴리우레탄 가방 5 여자 39000 0\n",
       "\n",
       "[714 rows x 2 columns]"
      ]
     },
     "execution_count": 6,
     "metadata": {},
     "output_type": "execute_result"
    }
   ],
   "source": [
    "# user 와 brand 를 제외한 컬럼을 features 로 합치기\n",
    "cols = ['color', 'contents', 'category', 'ratings', 'gender', 'price', 'style']\n",
    "raw['features'] = raw[cols].apply(lambda row: ' '.join(row.values.astype(str)), axis=1)\n",
    "raw.drop(cols, axis=1, inplace=True)\n",
    "raw"
   ]
  },
  {
   "cell_type": "code",
   "execution_count": 7,
   "id": "eb7118b2",
   "metadata": {},
   "outputs": [
    {
     "name": "stdout",
     "output_type": "stream",
     "text": [
      "#Train set size:  571\n",
      "#Test set size:  143\n"
     ]
    }
   ],
   "source": [
    "# Test set / Train set 나누기\n",
    "X_train, X_test, y_train, y_test = train_test_split(raw.features, raw.brand, test_size=0.2, random_state=4)\n",
    "\n",
    "print('#Train set size: ', len(X_train))\n",
    "print('#Test set size: ', len(X_test))"
   ]
  },
  {
   "cell_type": "code",
   "execution_count": 8,
   "id": "21982091",
   "metadata": {
    "scrolled": true
   },
   "outputs": [
    {
     "data": {
      "text/plain": [
       "321              기타 면 상의 5 남자 27500 0\n",
       "80         그린 면 폴리에스터 상의 5 여자 59000 0\n",
       "463              블랙 면 상의 5 남자 39000 1\n",
       "615           블랙 코듀라 가방 5 여자 119000 0\n",
       "551           화이트 면 상의 5 알수없음 39000 0\n",
       "533            아이보리 면 하의 5 남자 69000 0\n",
       "421    기타 폴리에스터 폴리우레탄 가방 5 남자 88000 0\n",
       "165          멀티 광고현수막 가방 5 여자 79000 1\n",
       "190             블랙 면 하의 5 남자 109000 1\n",
       "659          블랙 폴리에스터 가방 5 여자 59800 0\n",
       "Name: features, dtype: object"
      ]
     },
     "execution_count": 8,
     "metadata": {},
     "output_type": "execute_result"
    }
   ],
   "source": [
    "X_train[:10]"
   ]
  },
  {
   "cell_type": "code",
   "execution_count": 9,
   "id": "5c5b99c1",
   "metadata": {},
   "outputs": [
    {
     "data": {
      "text/plain": [
       "384                   블랙 나일론 모자 5 남자 49900 0\n",
       "262                  그린 나일론 상의 4 남자 395000 0\n",
       "112    화이트 폴리에스터 레이온 폴리우레탄 상의 5 알수없음 12900 0\n",
       "430                그레이 폴리에스터 모자 5 남자 27000 0\n",
       "195          베이지 면 나일론 폴리우레탄 하의 5 남자 89000 0\n",
       "33                     네이비 면 하의 5 여자 67000 0\n",
       "604                 기타 폴리에스터 셋업 5 남자 55000 0\n",
       "229                  화이트 면 상의 5 알수없음 49000 0\n",
       "155               화이트 None 상의 5 알수없음 58000 0\n",
       "83            블랙 폴리에스터 폴리우레탄 셋업 5 여자 92000 0\n",
       "Name: features, dtype: object"
      ]
     },
     "execution_count": 9,
     "metadata": {},
     "output_type": "execute_result"
    }
   ],
   "source": [
    "X_test[:10]"
   ]
  },
  {
   "cell_type": "code",
   "execution_count": 10,
   "id": "1d41e21d",
   "metadata": {},
   "outputs": [
    {
     "name": "stdout",
     "output_type": "stream",
     "text": [
      "  (0, 0)\t0.1459803129111718\n",
      "  (0, 69)\t0.8135805985198138\n",
      "  (0, 186)\t0.23253590034103686\n",
      "  (0, 119)\t0.13625637100236562\n",
      "  (0, 201)\t0.21813894863670513\n",
      "  (0, 195)\t0.20358598821633128\n",
      "  (0, 184)\t0.39383468468127536\n",
      "  (1, 133)\t0.6230064942617041\n",
      "  (1, 207)\t0.2618574915024688\n",
      "  (1, 219)\t0.2871286146360805\n",
      "  (1, 183)\t0.5446487506449104\n",
      "  (1, 0)\t0.1647601871990626\n",
      "  (1, 119)\t0.15378529300094843\n",
      "  (1, 201)\t0.24620178773462353\n",
      "  (1, 195)\t0.2297766381007797\n",
      "  (2, 1)\t0.4533810063674035\n",
      "  (2, 97)\t0.6091743469672026\n",
      "  (2, 199)\t0.35161463814332866\n",
      "  (2, 186)\t0.31661532537771425\n",
      "  (2, 119)\t0.18552341886319584\n",
      "  (2, 201)\t0.29701277995729086\n",
      "  (2, 195)\t0.2771978167969873\n",
      "  (3, 13)\t0.4773422579060124\n",
      "  (3, 180)\t0.3088076049646628\n",
      "  (3, 212)\t0.7380880782242846\n",
      "  :\t:\n",
      "  (6, 0)\t0.13199726369946999\n",
      "  (6, 186)\t0.21026193152214098\n",
      "  (6, 119)\t0.12320475121104946\n",
      "  (6, 184)\t0.3561103527672568\n",
      "  (7, 157)\t0.46504773223959994\n",
      "  (7, 181)\t0.5580882326491367\n",
      "  (7, 194)\t0.4568490270554881\n",
      "  (7, 180)\t0.31950755364449773\n",
      "  (7, 1)\t0.3125519056267708\n",
      "  (7, 207)\t0.21777487178838\n",
      "  (7, 119)\t0.12789617846737927\n",
      "  (8, 8)\t0.7498876298520842\n",
      "  (8, 221)\t0.32321861860505935\n",
      "  (8, 1)\t0.3559102626631042\n",
      "  (8, 199)\t0.27602227808452323\n",
      "  (8, 186)\t0.2485473410569593\n",
      "  (8, 119)\t0.14563840966078995\n",
      "  (8, 195)\t0.2176040601619431\n",
      "  (9, 135)\t0.8124060752771058\n",
      "  (9, 180)\t0.3399014044077677\n",
      "  (9, 199)\t0.25786809088672424\n",
      "  (9, 207)\t0.23167522620749365\n",
      "  (9, 219)\t0.2540335446000829\n",
      "  (9, 0)\t0.14576956886097703\n",
      "  (9, 119)\t0.13605966489236193\n",
      "\n",
      "  (0, 199)\t0.3047605197029662\n",
      "  (0, 196)\t0.46478022406550074\n",
      "  (0, 186)\t0.2744250114772041\n",
      "  (0, 185)\t0.44522753192557857\n",
      "  (0, 119)\t0.1608016487833796\n",
      "  (0, 118)\t0.6016868790097816\n",
      "  (0, 0)\t0.1722772655204692\n",
      "  (1, 201)\t0.2663655298225799\n",
      "  (1, 186)\t0.2839453874890853\n",
      "  (1, 185)\t0.4606734036118241\n",
      "  (1, 183)\t0.5892550755525471\n",
      "  (1, 99)\t0.5071572058624358\n",
      "  (1, 0)\t0.17825392317723604\n",
      "  (2, 222)\t0.3943364701978062\n",
      "  (2, 220)\t0.30840935492918997\n",
      "  (2, 219)\t0.21633372847189086\n",
      "  (2, 206)\t0.2762577020911016\n",
      "  (2, 201)\t0.1854978848575662\n",
      "  (2, 189)\t0.3753854946496691\n",
      "  (2, 119)\t0.1158677474942854\n",
      "  (2, 19)\t0.6496959591011717\n",
      "  (2, 0)\t0.12413665438979556\n",
      "  (3, 219)\t0.3733267690467555\n",
      "  (3, 196)\t0.5779424625738341\n",
      "  (3, 186)\t0.3412405664287397\n",
      "  :\t:\n",
      "  (6, 184)\t0.37858396085410845\n",
      "  (6, 129)\t0.6191868655581181\n",
      "  (6, 119)\t0.13098002444205498\n",
      "  (6, 0)\t0.14032741964654374\n",
      "  (7, 222)\t0.5525375192593932\n",
      "  (7, 206)\t0.3870875684238627\n",
      "  (7, 201)\t0.2599164644235191\n",
      "  (7, 195)\t0.24257635142215614\n",
      "  (7, 119)\t0.16235190655977627\n",
      "  (7, 117)\t0.6015422056952154\n",
      "  (7, 0)\t0.17393815751125496\n",
      "  (8, 222)\t0.44338752976083773\n",
      "  (8, 206)\t0.31062107962303415\n",
      "  (8, 201)\t0.20857175320760923\n",
      "  (8, 179)\t0.4976518053753348\n",
      "  (8, 132)\t0.6158795194538995\n",
      "  (8, 119)\t0.1302804032167591\n",
      "  (8, 0)\t0.13957786992173699\n",
      "  (9, 220)\t0.43037149221888865\n",
      "  (9, 219)\t0.30188406431802295\n",
      "  (9, 207)\t0.27531426607229537\n",
      "  (9, 202)\t0.7055435317840003\n",
      "  (9, 199)\t0.30644089723412166\n",
      "  (9, 119)\t0.16168827109867065\n",
      "  (9, 0)\t0.17322716167628244\n"
     ]
    }
   ],
   "source": [
    "# 토크나이저 사용하여 토큰화\n",
    "tb_tokenizer = TreebankWordTokenizer()\n",
    "\n",
    "# TF-IDF 벡터화 \n",
    "tfidf = TfidfVectorizer(tokenizer=tb_tokenizer.tokenize, max_features=2000)\n",
    "\n",
    "X_train_tfidf = tfidf.fit_transform(X_train)  # train set 을 변환\n",
    "X_test_tfidf = tfidf.transform(X_test)  # test set 을 변환\n",
    "\n",
    "print(X_train_tfidf[:10])\n",
    "print()\n",
    "print(X_test_tfidf[:10])"
   ]
  },
  {
   "cell_type": "code",
   "execution_count": 11,
   "id": "1f991f2d",
   "metadata": {},
   "outputs": [
    {
     "name": "stdout",
     "output_type": "stream",
     "text": [
      "#Decision Tree train set score: 0.991\n",
      "#Decision Tree test set score: 0.392\n"
     ]
    }
   ],
   "source": [
    "# sklearn 에서 제공하는 Decision Tree 를 이용\n",
    "tree = DecisionTreeClassifier(random_state=7)  # 분류기 선언\n",
    "\n",
    "# train data를 이용해 분류기를 학습\n",
    "tree.fit(X_train_tfidf, y_train)\n",
    "\n",
    "# score 확인\n",
    "print('#Decision Tree train set score: {:.3f}'.format(tree.score(X_train_tfidf, y_train)))\n",
    "print('#Decision Tree test set score: {:.3f}'.format(tree.score(X_test_tfidf, y_test)))"
   ]
  },
  {
   "cell_type": "code",
   "execution_count": 12,
   "id": "ef3c932d",
   "metadata": {},
   "outputs": [],
   "source": [
    "# 오차행렬, 정확도, 정밀도, 재현율을 한번에 출력하기 위한 함수 정의\n",
    "\n",
    "pred = tree.predict(X_test_tfidf)\n",
    "\n",
    "def get_tree_eval(y_test, pred):\n",
    "    confusion = confusion_matrix(y_test, pred)\n",
    "    accuracy = accuracy_score(y_test, pred)\n",
    "    precision = precision_score(y_test, pred, average='micro')\n",
    "    recall = recall_score(y_test, pred, average='micro')\n",
    "    print('Confusion Matrix')\n",
    "    print(confusion)\n",
    "    print('정확도:{}, 정밀도:{}, 재현율:{}'.format(accuracy, precision, recall))"
   ]
  },
  {
   "cell_type": "code",
   "execution_count": 13,
   "id": "6974cb99",
   "metadata": {},
   "outputs": [
    {
     "name": "stdout",
     "output_type": "stream",
     "text": [
      "Confusion Matrix\n",
      "[[ 5  0  2  0  1  4]\n",
      " [ 5 13  9  1  2  8]\n",
      " [ 2  9 18  4  0  3]\n",
      " [ 0  2  3  0  0  0]\n",
      " [ 0  0  2  1  1  0]\n",
      " [ 5 11  6  3  4 19]]\n",
      "정확도:0.3916083916083916, 정밀도:0.3916083916083916, 재현율:0.3916083916083916\n"
     ]
    }
   ],
   "source": [
    "get_tree_eval(y_test, pred)"
   ]
  },
  {
   "cell_type": "code",
   "execution_count": 14,
   "id": "34bfe2e4",
   "metadata": {},
   "outputs": [
    {
     "name": "stdout",
     "output_type": "stream",
     "text": [
      "f1 score : 0.3916083916083916\n"
     ]
    }
   ],
   "source": [
    "# f1-score\n",
    "f1 = f1_score(y_test, pred, average='micro')\n",
    "print('f1 score :', f1)"
   ]
  },
  {
   "cell_type": "code",
   "execution_count": 15,
   "id": "c5a5a3b2",
   "metadata": {},
   "outputs": [
    {
     "name": "stdout",
     "output_type": "stream",
     "text": [
      "실제브랜드, 예측한브랜드, features\n",
      "('오버랩업사이클', '오버랩업사이클', '블랙 나일론 모자 5 남자 49900 0')\n",
      "('오버랩업사이클', '누깍', '그린 나일론 상의 4 남자 395000 0')\n",
      "('누깍', '오버랩업사이클', '화이트 폴리에스터 레이온 폴리우레탄 상의 5 알수없음 12900 0')\n",
      "('오버랩업사이클', '오버랩업사이클', '그레이 폴리에스터 모자 5 남자 27000 0')\n",
      "('누깍', '누깍', '베이지 면 나일론 폴리우레탄 하의 5 남자 89000 0')\n",
      "('119레오', '플리츠마마', '네이비 면 하의 5 여자 67000 0')\n",
      "('플리츠마마', '누깍', '기타 폴리에스터 셋업 5 남자 55000 0')\n",
      "('누깍', '플리츠마마', '화이트 면 상의 5 알수없음 49000 0')\n",
      "('누깍', '오버랩업사이클', '화이트 None 상의 5 알수없음 58000 0')\n",
      "('누깍', '플리츠마마', '블랙 폴리에스터 폴리우레탄 셋업 5 여자 92000 0')\n"
     ]
    }
   ],
   "source": [
    "print('실제브랜드, 예측한브랜드, features')\n",
    "for content in zip(y_test[:10], tree.predict(X_test_tfidf[:10]), X_test[:10]):\n",
    "    print(content)"
   ]
  },
  {
   "cell_type": "code",
   "execution_count": null,
   "id": "3ecae43b",
   "metadata": {},
   "outputs": [],
   "source": []
  }
 ],
 "metadata": {
  "kernelspec": {
   "display_name": "Python 3",
   "language": "python",
   "name": "python3"
  },
  "language_info": {
   "codemirror_mode": {
    "name": "ipython",
    "version": 3
   },
   "file_extension": ".py",
   "mimetype": "text/x-python",
   "name": "python",
   "nbconvert_exporter": "python",
   "pygments_lexer": "ipython3",
   "version": "3.8.8"
  }
 },
 "nbformat": 4,
 "nbformat_minor": 5
}

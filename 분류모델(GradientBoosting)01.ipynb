{
 "cells": [
  {
   "cell_type": "code",
   "execution_count": 1,
   "id": "4a5a5817",
   "metadata": {},
   "outputs": [],
   "source": [
    "import pandas as pd\n",
    "\n",
    "import nltk\n",
    "from nltk.tokenize import TreebankWordTokenizer\n",
    "\n",
    "from sklearn.model_selection import train_test_split\n",
    "from sklearn.feature_extraction.text import TfidfVectorizer\n",
    "\n",
    "from sklearn.ensemble import GradientBoostingClassifier\n",
    "\n",
    "from sklearn.metrics import accuracy_score, precision_score, recall_score, confusion_matrix\n",
    "from sklearn.metrics import f1_score"
   ]
  },
  {
   "cell_type": "code",
   "execution_count": 2,
   "id": "643c5be4",
   "metadata": {},
   "outputs": [
    {
     "name": "stdout",
     "output_type": "stream",
     "text": [
      "(715, 12)\n"
     ]
    },
    {
     "data": {
      "text/html": [
       "<div>\n",
       "<style scoped>\n",
       "    .dataframe tbody tr th:only-of-type {\n",
       "        vertical-align: middle;\n",
       "    }\n",
       "\n",
       "    .dataframe tbody tr th {\n",
       "        vertical-align: top;\n",
       "    }\n",
       "\n",
       "    .dataframe thead th {\n",
       "        text-align: right;\n",
       "    }\n",
       "</style>\n",
       "<table border=\"1\" class=\"dataframe\">\n",
       "  <thead>\n",
       "    <tr style=\"text-align: right;\">\n",
       "      <th></th>\n",
       "      <th>Unnamed: 0</th>\n",
       "      <th>user</th>\n",
       "      <th>color</th>\n",
       "      <th>contents</th>\n",
       "      <th>category</th>\n",
       "      <th>ratings</th>\n",
       "      <th>gender</th>\n",
       "      <th>price</th>\n",
       "      <th>style</th>\n",
       "      <th>up_check</th>\n",
       "      <th>brand</th>\n",
       "      <th>url</th>\n",
       "    </tr>\n",
       "  </thead>\n",
       "  <tbody>\n",
       "    <tr>\n",
       "      <th>0</th>\n",
       "      <td>0</td>\n",
       "      <td>멤버_464f9cc84f7d</td>\n",
       "      <td>기타</td>\n",
       "      <td>면</td>\n",
       "      <td>상의</td>\n",
       "      <td>5</td>\n",
       "      <td>남자</td>\n",
       "      <td>39000</td>\n",
       "      <td>0</td>\n",
       "      <td>0</td>\n",
       "      <td>119레오</td>\n",
       "      <td>https://www.musinsa.com/app/goods/1876547/0</td>\n",
       "    </tr>\n",
       "    <tr>\n",
       "      <th>1</th>\n",
       "      <td>1</td>\n",
       "      <td>멤버_464f9cc84f7d</td>\n",
       "      <td>카키</td>\n",
       "      <td>면</td>\n",
       "      <td>하의</td>\n",
       "      <td>5</td>\n",
       "      <td>남자</td>\n",
       "      <td>42000</td>\n",
       "      <td>0</td>\n",
       "      <td>0</td>\n",
       "      <td>119레오</td>\n",
       "      <td>https://www.musinsa.com/app/goods/2396824/0</td>\n",
       "    </tr>\n",
       "    <tr>\n",
       "      <th>2</th>\n",
       "      <td>2</td>\n",
       "      <td>멤버_464f9cc84f7d</td>\n",
       "      <td>기타</td>\n",
       "      <td>면</td>\n",
       "      <td>모자</td>\n",
       "      <td>5</td>\n",
       "      <td>남자</td>\n",
       "      <td>59000</td>\n",
       "      <td>0</td>\n",
       "      <td>0</td>\n",
       "      <td>119레오</td>\n",
       "      <td>https://www.musinsa.com/app/goods/2428013/0</td>\n",
       "    </tr>\n",
       "    <tr>\n",
       "      <th>3</th>\n",
       "      <td>3</td>\n",
       "      <td>멤버_464f9cc84f7d</td>\n",
       "      <td>블랙</td>\n",
       "      <td>면</td>\n",
       "      <td>상의</td>\n",
       "      <td>5</td>\n",
       "      <td>남자</td>\n",
       "      <td>35000</td>\n",
       "      <td>0</td>\n",
       "      <td>0</td>\n",
       "      <td>119레오</td>\n",
       "      <td>https://www.musinsa.com/app/goods/470357/0</td>\n",
       "    </tr>\n",
       "    <tr>\n",
       "      <th>4</th>\n",
       "      <td>4</td>\n",
       "      <td>멤버_464f9cc84f7d</td>\n",
       "      <td>아이보리</td>\n",
       "      <td>면 아라미드</td>\n",
       "      <td>가방</td>\n",
       "      <td>5</td>\n",
       "      <td>남자</td>\n",
       "      <td>48000</td>\n",
       "      <td>1</td>\n",
       "      <td>1</td>\n",
       "      <td>119레오</td>\n",
       "      <td>https://www.musinsa.com/app/goods/1766332/0</td>\n",
       "    </tr>\n",
       "  </tbody>\n",
       "</table>\n",
       "</div>"
      ],
      "text/plain": [
       "   Unnamed: 0             user color contents category  ratings gender  price  \\\n",
       "0           0  멤버_464f9cc84f7d    기타        면       상의        5     남자  39000   \n",
       "1           1  멤버_464f9cc84f7d    카키        면       하의        5     남자  42000   \n",
       "2           2  멤버_464f9cc84f7d    기타        면       모자        5     남자  59000   \n",
       "3           3  멤버_464f9cc84f7d    블랙        면       상의        5     남자  35000   \n",
       "4           4  멤버_464f9cc84f7d  아이보리   면 아라미드       가방        5     남자  48000   \n",
       "\n",
       "   style  up_check  brand                                          url  \n",
       "0      0         0  119레오  https://www.musinsa.com/app/goods/1876547/0  \n",
       "1      0         0  119레오  https://www.musinsa.com/app/goods/2396824/0  \n",
       "2      0         0  119레오  https://www.musinsa.com/app/goods/2428013/0  \n",
       "3      0         0  119레오   https://www.musinsa.com/app/goods/470357/0  \n",
       "4      1         1  119레오  https://www.musinsa.com/app/goods/1766332/0  "
      ]
     },
     "execution_count": 2,
     "metadata": {},
     "output_type": "execute_result"
    }
   ],
   "source": [
    "# 전처리 끝낸 데이터 불러오기\n",
    "raw = pd.read_csv('/Users/mac/AIFFEL/hackathon/new_musinsa(upcycling).csv', engine='python')\n",
    "print(raw.shape)\n",
    "raw.head()"
   ]
  },
  {
   "cell_type": "code",
   "execution_count": 3,
   "id": "b73c7943",
   "metadata": {},
   "outputs": [
    {
     "data": {
      "text/html": [
       "<div>\n",
       "<style scoped>\n",
       "    .dataframe tbody tr th:only-of-type {\n",
       "        vertical-align: middle;\n",
       "    }\n",
       "\n",
       "    .dataframe tbody tr th {\n",
       "        vertical-align: top;\n",
       "    }\n",
       "\n",
       "    .dataframe thead th {\n",
       "        text-align: right;\n",
       "    }\n",
       "</style>\n",
       "<table border=\"1\" class=\"dataframe\">\n",
       "  <thead>\n",
       "    <tr style=\"text-align: right;\">\n",
       "      <th></th>\n",
       "      <th>color</th>\n",
       "      <th>contents</th>\n",
       "      <th>category</th>\n",
       "      <th>ratings</th>\n",
       "      <th>gender</th>\n",
       "      <th>price</th>\n",
       "      <th>style</th>\n",
       "      <th>brand</th>\n",
       "    </tr>\n",
       "  </thead>\n",
       "  <tbody>\n",
       "    <tr>\n",
       "      <th>0</th>\n",
       "      <td>기타</td>\n",
       "      <td>면</td>\n",
       "      <td>상의</td>\n",
       "      <td>5</td>\n",
       "      <td>남자</td>\n",
       "      <td>39000</td>\n",
       "      <td>0</td>\n",
       "      <td>119레오</td>\n",
       "    </tr>\n",
       "    <tr>\n",
       "      <th>1</th>\n",
       "      <td>카키</td>\n",
       "      <td>면</td>\n",
       "      <td>하의</td>\n",
       "      <td>5</td>\n",
       "      <td>남자</td>\n",
       "      <td>42000</td>\n",
       "      <td>0</td>\n",
       "      <td>119레오</td>\n",
       "    </tr>\n",
       "    <tr>\n",
       "      <th>2</th>\n",
       "      <td>기타</td>\n",
       "      <td>면</td>\n",
       "      <td>모자</td>\n",
       "      <td>5</td>\n",
       "      <td>남자</td>\n",
       "      <td>59000</td>\n",
       "      <td>0</td>\n",
       "      <td>119레오</td>\n",
       "    </tr>\n",
       "    <tr>\n",
       "      <th>3</th>\n",
       "      <td>블랙</td>\n",
       "      <td>면</td>\n",
       "      <td>상의</td>\n",
       "      <td>5</td>\n",
       "      <td>남자</td>\n",
       "      <td>35000</td>\n",
       "      <td>0</td>\n",
       "      <td>119레오</td>\n",
       "    </tr>\n",
       "    <tr>\n",
       "      <th>4</th>\n",
       "      <td>아이보리</td>\n",
       "      <td>면 아라미드</td>\n",
       "      <td>가방</td>\n",
       "      <td>5</td>\n",
       "      <td>남자</td>\n",
       "      <td>48000</td>\n",
       "      <td>1</td>\n",
       "      <td>119레오</td>\n",
       "    </tr>\n",
       "  </tbody>\n",
       "</table>\n",
       "</div>"
      ],
      "text/plain": [
       "  color contents category  ratings gender  price  style  brand\n",
       "0    기타        면       상의        5     남자  39000      0  119레오\n",
       "1    카키        면       하의        5     남자  42000      0  119레오\n",
       "2    기타        면       모자        5     남자  59000      0  119레오\n",
       "3    블랙        면       상의        5     남자  35000      0  119레오\n",
       "4  아이보리   면 아라미드       가방        5     남자  48000      1  119레오"
      ]
     },
     "execution_count": 3,
     "metadata": {},
     "output_type": "execute_result"
    }
   ],
   "source": [
    "# 불필요한 컬럼 제거\n",
    "raw.drop(['Unnamed: 0', 'user', 'up_check', 'url'], axis=1, inplace=True)\n",
    "raw.head()"
   ]
  },
  {
   "cell_type": "code",
   "execution_count": 4,
   "id": "aeb3593a",
   "metadata": {},
   "outputs": [
    {
     "name": "stdout",
     "output_type": "stream",
     "text": [
      "orginal_data_size: 715, filtered_data_size: 714\n",
      "Ratio of Remaining Data is 99.86%\n"
     ]
    }
   ],
   "source": [
    "# rating 2점 이상만 사용\n",
    "orginal_data_size = len(raw)\n",
    "raw = raw[raw['ratings']>=2]\n",
    "filtered_data_size = len(raw)\n",
    "\n",
    "print(f'orginal_data_size: {orginal_data_size}, filtered_data_size: {filtered_data_size}')\n",
    "print(f'Ratio of Remaining Data is {filtered_data_size / orginal_data_size:.2%}')"
   ]
  },
  {
   "cell_type": "code",
   "execution_count": 5,
   "id": "f2682a85",
   "metadata": {},
   "outputs": [
    {
     "data": {
      "text/html": [
       "<div>\n",
       "<style scoped>\n",
       "    .dataframe tbody tr th:only-of-type {\n",
       "        vertical-align: middle;\n",
       "    }\n",
       "\n",
       "    .dataframe tbody tr th {\n",
       "        vertical-align: top;\n",
       "    }\n",
       "\n",
       "    .dataframe thead th {\n",
       "        text-align: right;\n",
       "    }\n",
       "</style>\n",
       "<table border=\"1\" class=\"dataframe\">\n",
       "  <thead>\n",
       "    <tr style=\"text-align: right;\">\n",
       "      <th></th>\n",
       "      <th>brand</th>\n",
       "      <th>features</th>\n",
       "    </tr>\n",
       "  </thead>\n",
       "  <tbody>\n",
       "    <tr>\n",
       "      <th>0</th>\n",
       "      <td>119레오</td>\n",
       "      <td>기타 면 상의 5 남자 39000 0</td>\n",
       "    </tr>\n",
       "    <tr>\n",
       "      <th>1</th>\n",
       "      <td>119레오</td>\n",
       "      <td>카키 면 하의 5 남자 42000 0</td>\n",
       "    </tr>\n",
       "    <tr>\n",
       "      <th>2</th>\n",
       "      <td>119레오</td>\n",
       "      <td>기타 면 모자 5 남자 59000 0</td>\n",
       "    </tr>\n",
       "    <tr>\n",
       "      <th>3</th>\n",
       "      <td>119레오</td>\n",
       "      <td>블랙 면 상의 5 남자 35000 0</td>\n",
       "    </tr>\n",
       "    <tr>\n",
       "      <th>4</th>\n",
       "      <td>119레오</td>\n",
       "      <td>아이보리 면 아라미드 가방 5 남자 48000 1</td>\n",
       "    </tr>\n",
       "    <tr>\n",
       "      <th>...</th>\n",
       "      <td>...</td>\n",
       "      <td>...</td>\n",
       "    </tr>\n",
       "    <tr>\n",
       "      <th>710</th>\n",
       "      <td>플리츠마마</td>\n",
       "      <td>기타 폴리에스터 폴리우레탄 가방 5 여자 59000 0</td>\n",
       "    </tr>\n",
       "    <tr>\n",
       "      <th>711</th>\n",
       "      <td>플리츠마마</td>\n",
       "      <td>아이보리 울 아크릴 모자 5 여자 35000 0</td>\n",
       "    </tr>\n",
       "    <tr>\n",
       "      <th>712</th>\n",
       "      <td>플리츠마마</td>\n",
       "      <td>베이지 아크릴 모자 5 여자 29000 0</td>\n",
       "    </tr>\n",
       "    <tr>\n",
       "      <th>713</th>\n",
       "      <td>플리츠마마</td>\n",
       "      <td>블랙 면 폴리에스터 상의 5 여자 138000 0</td>\n",
       "    </tr>\n",
       "    <tr>\n",
       "      <th>714</th>\n",
       "      <td>플리츠마마</td>\n",
       "      <td>블랙 폴리에스터 폴리우레탄 가방 5 여자 39000 0</td>\n",
       "    </tr>\n",
       "  </tbody>\n",
       "</table>\n",
       "<p>714 rows × 2 columns</p>\n",
       "</div>"
      ],
      "text/plain": [
       "     brand                        features\n",
       "0    119레오            기타 면 상의 5 남자 39000 0\n",
       "1    119레오            카키 면 하의 5 남자 42000 0\n",
       "2    119레오            기타 면 모자 5 남자 59000 0\n",
       "3    119레오            블랙 면 상의 5 남자 35000 0\n",
       "4    119레오     아이보리 면 아라미드 가방 5 남자 48000 1\n",
       "..     ...                             ...\n",
       "710  플리츠마마  기타 폴리에스터 폴리우레탄 가방 5 여자 59000 0\n",
       "711  플리츠마마      아이보리 울 아크릴 모자 5 여자 35000 0\n",
       "712  플리츠마마         베이지 아크릴 모자 5 여자 29000 0\n",
       "713  플리츠마마     블랙 면 폴리에스터 상의 5 여자 138000 0\n",
       "714  플리츠마마  블랙 폴리에스터 폴리우레탄 가방 5 여자 39000 0\n",
       "\n",
       "[714 rows x 2 columns]"
      ]
     },
     "execution_count": 5,
     "metadata": {},
     "output_type": "execute_result"
    }
   ],
   "source": [
    "# user 와 brand 를 제외한 컬럼을 features 로 합치기\n",
    "cols = ['color', 'contents', 'category', 'ratings', 'gender', 'price', 'style']\n",
    "raw['features'] = raw[cols].apply(lambda row: ' '.join(row.values.astype(str)), axis=1)\n",
    "raw.drop(cols, axis=1, inplace=True)\n",
    "raw"
   ]
  },
  {
   "cell_type": "code",
   "execution_count": 8,
   "id": "b518c953",
   "metadata": {},
   "outputs": [
    {
     "name": "stdout",
     "output_type": "stream",
     "text": [
      "#Train set size:  571\n",
      "#Test set size:  143\n"
     ]
    }
   ],
   "source": [
    "# Test set / Train set 나누기\n",
    "X_train, X_test, y_train, y_test = train_test_split(raw.features, raw.brand, test_size=0.2, random_state=4)\n",
    "\n",
    "print('#Train set size: ', len(X_train))\n",
    "print('#Test set size: ', len(X_test))"
   ]
  },
  {
   "cell_type": "code",
   "execution_count": 9,
   "id": "964c07dd",
   "metadata": {},
   "outputs": [
    {
     "data": {
      "text/plain": [
       "321              기타 면 상의 5 남자 27500 0\n",
       "80         그린 면 폴리에스터 상의 5 여자 59000 0\n",
       "463              블랙 면 상의 5 남자 39000 1\n",
       "615           블랙 코듀라 가방 5 여자 119000 0\n",
       "551           화이트 면 상의 5 알수없음 39000 0\n",
       "533            아이보리 면 하의 5 남자 69000 0\n",
       "421    기타 폴리에스터 폴리우레탄 가방 5 남자 88000 0\n",
       "165          멀티 광고현수막 가방 5 여자 79000 1\n",
       "190             블랙 면 하의 5 남자 109000 1\n",
       "659          블랙 폴리에스터 가방 5 여자 59800 0\n",
       "Name: features, dtype: object"
      ]
     },
     "execution_count": 9,
     "metadata": {},
     "output_type": "execute_result"
    }
   ],
   "source": [
    "X_train[:10]"
   ]
  },
  {
   "cell_type": "code",
   "execution_count": 10,
   "id": "a229774e",
   "metadata": {},
   "outputs": [
    {
     "data": {
      "text/plain": [
       "384                   블랙 나일론 모자 5 남자 49900 0\n",
       "262                  그린 나일론 상의 4 남자 395000 0\n",
       "112    화이트 폴리에스터 레이온 폴리우레탄 상의 5 알수없음 12900 0\n",
       "430                그레이 폴리에스터 모자 5 남자 27000 0\n",
       "195          베이지 면 나일론 폴리우레탄 하의 5 남자 89000 0\n",
       "33                     네이비 면 하의 5 여자 67000 0\n",
       "604                 기타 폴리에스터 셋업 5 남자 55000 0\n",
       "229                  화이트 면 상의 5 알수없음 49000 0\n",
       "155               화이트 None 상의 5 알수없음 58000 0\n",
       "83            블랙 폴리에스터 폴리우레탄 셋업 5 여자 92000 0\n",
       "Name: features, dtype: object"
      ]
     },
     "execution_count": 10,
     "metadata": {},
     "output_type": "execute_result"
    }
   ],
   "source": [
    "X_test[:10]"
   ]
  },
  {
   "cell_type": "code",
   "execution_count": 11,
   "id": "3e6d07dc",
   "metadata": {},
   "outputs": [],
   "source": [
    "# 토크나이저 사용하여 토큰화\n",
    "tb_tokenizer = TreebankWordTokenizer()\n",
    "\n",
    "# TF-IDF 벡터화 \n",
    "tfidf = TfidfVectorizer(tokenizer=tb_tokenizer.tokenize, max_features=2000)\n",
    "\n",
    "X_train_tfidf = tfidf.fit_transform(X_train)  # train set 을 변환\n",
    "X_test_tfidf = tfidf.transform(X_test)  # test set 을 변환"
   ]
  },
  {
   "cell_type": "code",
   "execution_count": 13,
   "id": "047d5b67",
   "metadata": {},
   "outputs": [
    {
     "name": "stdout",
     "output_type": "stream",
     "text": [
      "#Gradient Boosting train set score: 0.937\n",
      "#Gradient Boosting test set score: 0.455\n"
     ]
    }
   ],
   "source": [
    "# sklearn 에서 제공하는 Gradient Boosting 를 이용\n",
    "gb = GradientBoostingClassifier(random_state=7)  # 분류기 선언\n",
    "\n",
    "# train data를 이용해 분류기를 학습\n",
    "gb.fit(X_train_tfidf, y_train)\n",
    "\n",
    "# score 확인\n",
    "print('#Gradient Boosting train set score: {:.3f}'.format(gb.score(X_train_tfidf, y_train)))\n",
    "print('#Gradient Boosting test set score: {:.3f}'.format(gb.score(X_test_tfidf, y_test)))"
   ]
  },
  {
   "cell_type": "code",
   "execution_count": 14,
   "id": "3009b148",
   "metadata": {},
   "outputs": [],
   "source": [
    "# 오차행렬, 정확도, 정밀도, 재현율을 한번에 출력하기 위한 함수 정의\n",
    "\n",
    "pred = gb.predict(X_test_tfidf)\n",
    "\n",
    "def get_gradient_eval(y_test, pred):\n",
    "    confusion = confusion_matrix(y_test, pred)\n",
    "    accuracy = accuracy_score(y_test, pred)\n",
    "    precision = precision_score(y_test, pred, average='micro')\n",
    "    recall = recall_score(y_test, pred, average='micro')\n",
    "    print('Confusion Matrix')\n",
    "    print(confusion)\n",
    "    print('정확도:{}, 정밀도:{}, 재현율:{}'.format(accuracy, precision, recall))"
   ]
  },
  {
   "cell_type": "code",
   "execution_count": 15,
   "id": "3a1af9b3",
   "metadata": {},
   "outputs": [
    {
     "name": "stdout",
     "output_type": "stream",
     "text": [
      "Confusion Matrix\n",
      "[[ 4  2  2  1  1  2]\n",
      " [ 1 11 12  1  0 13]\n",
      " [ 2  6 24  2  1  1]\n",
      " [ 0  2  3  0  0  0]\n",
      " [ 0  1  1  0  2  0]\n",
      " [ 4 10  8  1  1 24]]\n",
      "정확도:0.45454545454545453, 정밀도:0.45454545454545453, 재현율:0.45454545454545453\n"
     ]
    }
   ],
   "source": [
    "get_gradient_eval(y_test, pred)"
   ]
  },
  {
   "cell_type": "code",
   "execution_count": 16,
   "id": "a5ffea3b",
   "metadata": {},
   "outputs": [
    {
     "name": "stdout",
     "output_type": "stream",
     "text": [
      "f1 score : 0.45454545454545453\n"
     ]
    }
   ],
   "source": [
    "# f1-score\n",
    "f1 = f1_score(y_test, pred, average='micro')\n",
    "print('f1 score :', f1)"
   ]
  },
  {
   "cell_type": "code",
   "execution_count": 19,
   "id": "1f5e6ed2",
   "metadata": {},
   "outputs": [
    {
     "name": "stdout",
     "output_type": "stream",
     "text": [
      "실제브랜드, 예측한브랜드, features\n",
      "('오버랩업사이클', '오버랩업사이클', '블랙 나일론 모자 5 남자 49900 0')\n",
      "('오버랩업사이클', '누깍', '그린 나일론 상의 4 남자 395000 0')\n",
      "('누깍', '누깍', '화이트 폴리에스터 레이온 폴리우레탄 상의 5 알수없음 12900 0')\n",
      "('오버랩업사이클', '큐클리프', '그레이 폴리에스터 모자 5 남자 27000 0')\n",
      "('누깍', '오버랩업사이클', '베이지 면 나일론 폴리우레탄 하의 5 남자 89000 0')\n",
      "('119레오', '플리츠마마', '네이비 면 하의 5 여자 67000 0')\n",
      "('플리츠마마', '누깍', '기타 폴리에스터 셋업 5 남자 55000 0')\n",
      "('누깍', '오버랩업사이클', '화이트 면 상의 5 알수없음 49000 0')\n",
      "('누깍', '플리츠마마', '화이트 None 상의 5 알수없음 58000 0')\n",
      "('누깍', '플리츠마마', '블랙 폴리에스터 폴리우레탄 셋업 5 여자 92000 0')\n"
     ]
    }
   ],
   "source": [
    "print('실제브랜드, 예측한브랜드, features')\n",
    "for content in zip(y_test[:10], gb.predict(X_test_tfidf[:10]), X_test[:10]):\n",
    "    print(content)"
   ]
  },
  {
   "cell_type": "code",
   "execution_count": null,
   "id": "d1244fb7",
   "metadata": {},
   "outputs": [],
   "source": []
  }
 ],
 "metadata": {
  "kernelspec": {
   "display_name": "Python 3",
   "language": "python",
   "name": "python3"
  },
  "language_info": {
   "codemirror_mode": {
    "name": "ipython",
    "version": 3
   },
   "file_extension": ".py",
   "mimetype": "text/x-python",
   "name": "python",
   "nbconvert_exporter": "python",
   "pygments_lexer": "ipython3",
   "version": "3.8.8"
  }
 },
 "nbformat": 4,
 "nbformat_minor": 5
}

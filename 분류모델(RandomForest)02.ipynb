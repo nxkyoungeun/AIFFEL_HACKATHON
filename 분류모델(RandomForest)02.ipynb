{
 "cells": [
  {
   "cell_type": "markdown",
   "id": "daa2572b",
   "metadata": {},
   "source": [
    "# RandomForest\n",
    "\n",
    "- feature 나눠서 사용\n",
    "- categorical 컬럼 라벨링\n",
    "- price 컬럼 Standard Scaler 사용하여 정규화\n",
    "- hyperparameter 튜닝 (max_depth=9, n_estimators=14)"
   ]
  },
  {
   "cell_type": "markdown",
   "id": "9edefe72",
   "metadata": {},
   "source": [
    "## 라이브러리 & 데이터 불러오기"
   ]
  },
  {
   "cell_type": "code",
   "execution_count": 1,
   "id": "28000cb8",
   "metadata": {},
   "outputs": [],
   "source": [
    "import pandas as pd\n",
    "import numpy as np\n",
    "\n",
    "from sklearn.model_selection import train_test_split\n",
    "from sklearn.ensemble import RandomForestClassifier\n",
    "from sklearn.ensemble import GradientBoostingClassifier\n",
    "from sklearn.preprocessing import StandardScaler"
   ]
  },
  {
   "cell_type": "code",
   "execution_count": 2,
   "id": "275d7ac9",
   "metadata": {},
   "outputs": [
    {
     "name": "stdout",
     "output_type": "stream",
     "text": [
      "(715, 12)\n"
     ]
    },
    {
     "data": {
      "text/html": [
       "<div>\n",
       "<style scoped>\n",
       "    .dataframe tbody tr th:only-of-type {\n",
       "        vertical-align: middle;\n",
       "    }\n",
       "\n",
       "    .dataframe tbody tr th {\n",
       "        vertical-align: top;\n",
       "    }\n",
       "\n",
       "    .dataframe thead th {\n",
       "        text-align: right;\n",
       "    }\n",
       "</style>\n",
       "<table border=\"1\" class=\"dataframe\">\n",
       "  <thead>\n",
       "    <tr style=\"text-align: right;\">\n",
       "      <th></th>\n",
       "      <th>Unnamed: 0</th>\n",
       "      <th>user</th>\n",
       "      <th>color</th>\n",
       "      <th>contents</th>\n",
       "      <th>category</th>\n",
       "      <th>ratings</th>\n",
       "      <th>gender</th>\n",
       "      <th>price</th>\n",
       "      <th>style</th>\n",
       "      <th>up_check</th>\n",
       "      <th>brand</th>\n",
       "      <th>url</th>\n",
       "    </tr>\n",
       "  </thead>\n",
       "  <tbody>\n",
       "    <tr>\n",
       "      <th>0</th>\n",
       "      <td>0</td>\n",
       "      <td>멤버_464f9cc84f7d</td>\n",
       "      <td>기타</td>\n",
       "      <td>면</td>\n",
       "      <td>상의</td>\n",
       "      <td>5</td>\n",
       "      <td>남자</td>\n",
       "      <td>39000</td>\n",
       "      <td>0</td>\n",
       "      <td>0</td>\n",
       "      <td>119레오</td>\n",
       "      <td>https://www.musinsa.com/app/goods/1876547/0</td>\n",
       "    </tr>\n",
       "    <tr>\n",
       "      <th>1</th>\n",
       "      <td>1</td>\n",
       "      <td>멤버_464f9cc84f7d</td>\n",
       "      <td>카키</td>\n",
       "      <td>면</td>\n",
       "      <td>하의</td>\n",
       "      <td>5</td>\n",
       "      <td>남자</td>\n",
       "      <td>42000</td>\n",
       "      <td>0</td>\n",
       "      <td>0</td>\n",
       "      <td>119레오</td>\n",
       "      <td>https://www.musinsa.com/app/goods/2396824/0</td>\n",
       "    </tr>\n",
       "    <tr>\n",
       "      <th>2</th>\n",
       "      <td>2</td>\n",
       "      <td>멤버_464f9cc84f7d</td>\n",
       "      <td>기타</td>\n",
       "      <td>면</td>\n",
       "      <td>모자</td>\n",
       "      <td>5</td>\n",
       "      <td>남자</td>\n",
       "      <td>59000</td>\n",
       "      <td>0</td>\n",
       "      <td>0</td>\n",
       "      <td>119레오</td>\n",
       "      <td>https://www.musinsa.com/app/goods/2428013/0</td>\n",
       "    </tr>\n",
       "    <tr>\n",
       "      <th>3</th>\n",
       "      <td>3</td>\n",
       "      <td>멤버_464f9cc84f7d</td>\n",
       "      <td>블랙</td>\n",
       "      <td>면</td>\n",
       "      <td>상의</td>\n",
       "      <td>5</td>\n",
       "      <td>남자</td>\n",
       "      <td>35000</td>\n",
       "      <td>0</td>\n",
       "      <td>0</td>\n",
       "      <td>119레오</td>\n",
       "      <td>https://www.musinsa.com/app/goods/470357/0</td>\n",
       "    </tr>\n",
       "    <tr>\n",
       "      <th>4</th>\n",
       "      <td>4</td>\n",
       "      <td>멤버_464f9cc84f7d</td>\n",
       "      <td>아이보리</td>\n",
       "      <td>면 아라미드</td>\n",
       "      <td>가방</td>\n",
       "      <td>5</td>\n",
       "      <td>남자</td>\n",
       "      <td>48000</td>\n",
       "      <td>1</td>\n",
       "      <td>1</td>\n",
       "      <td>119레오</td>\n",
       "      <td>https://www.musinsa.com/app/goods/1766332/0</td>\n",
       "    </tr>\n",
       "  </tbody>\n",
       "</table>\n",
       "</div>"
      ],
      "text/plain": [
       "   Unnamed: 0             user color contents category  ratings gender  price  \\\n",
       "0           0  멤버_464f9cc84f7d    기타        면       상의        5     남자  39000   \n",
       "1           1  멤버_464f9cc84f7d    카키        면       하의        5     남자  42000   \n",
       "2           2  멤버_464f9cc84f7d    기타        면       모자        5     남자  59000   \n",
       "3           3  멤버_464f9cc84f7d    블랙        면       상의        5     남자  35000   \n",
       "4           4  멤버_464f9cc84f7d  아이보리   면 아라미드       가방        5     남자  48000   \n",
       "\n",
       "   style  up_check  brand                                          url  \n",
       "0      0         0  119레오  https://www.musinsa.com/app/goods/1876547/0  \n",
       "1      0         0  119레오  https://www.musinsa.com/app/goods/2396824/0  \n",
       "2      0         0  119레오  https://www.musinsa.com/app/goods/2428013/0  \n",
       "3      0         0  119레오   https://www.musinsa.com/app/goods/470357/0  \n",
       "4      1         1  119레오  https://www.musinsa.com/app/goods/1766332/0  "
      ]
     },
     "execution_count": 2,
     "metadata": {},
     "output_type": "execute_result"
    }
   ],
   "source": [
    "# 전처리 끝낸 데이터 불러오기\n",
    "raw = pd.read_csv('/Users/mac/AIFFEL/hackathon/new_musinsa(upcycling).csv', engine='python')\n",
    "print(raw.shape)\n",
    "raw.head()"
   ]
  },
  {
   "cell_type": "code",
   "execution_count": 3,
   "id": "964e0565",
   "metadata": {},
   "outputs": [
    {
     "data": {
      "text/html": [
       "<div>\n",
       "<style scoped>\n",
       "    .dataframe tbody tr th:only-of-type {\n",
       "        vertical-align: middle;\n",
       "    }\n",
       "\n",
       "    .dataframe tbody tr th {\n",
       "        vertical-align: top;\n",
       "    }\n",
       "\n",
       "    .dataframe thead th {\n",
       "        text-align: right;\n",
       "    }\n",
       "</style>\n",
       "<table border=\"1\" class=\"dataframe\">\n",
       "  <thead>\n",
       "    <tr style=\"text-align: right;\">\n",
       "      <th></th>\n",
       "      <th>color</th>\n",
       "      <th>contents</th>\n",
       "      <th>category</th>\n",
       "      <th>ratings</th>\n",
       "      <th>gender</th>\n",
       "      <th>price</th>\n",
       "      <th>style</th>\n",
       "      <th>brand</th>\n",
       "    </tr>\n",
       "  </thead>\n",
       "  <tbody>\n",
       "    <tr>\n",
       "      <th>0</th>\n",
       "      <td>기타</td>\n",
       "      <td>면</td>\n",
       "      <td>상의</td>\n",
       "      <td>5</td>\n",
       "      <td>남자</td>\n",
       "      <td>39000</td>\n",
       "      <td>0</td>\n",
       "      <td>119레오</td>\n",
       "    </tr>\n",
       "    <tr>\n",
       "      <th>1</th>\n",
       "      <td>카키</td>\n",
       "      <td>면</td>\n",
       "      <td>하의</td>\n",
       "      <td>5</td>\n",
       "      <td>남자</td>\n",
       "      <td>42000</td>\n",
       "      <td>0</td>\n",
       "      <td>119레오</td>\n",
       "    </tr>\n",
       "    <tr>\n",
       "      <th>2</th>\n",
       "      <td>기타</td>\n",
       "      <td>면</td>\n",
       "      <td>모자</td>\n",
       "      <td>5</td>\n",
       "      <td>남자</td>\n",
       "      <td>59000</td>\n",
       "      <td>0</td>\n",
       "      <td>119레오</td>\n",
       "    </tr>\n",
       "    <tr>\n",
       "      <th>3</th>\n",
       "      <td>블랙</td>\n",
       "      <td>면</td>\n",
       "      <td>상의</td>\n",
       "      <td>5</td>\n",
       "      <td>남자</td>\n",
       "      <td>35000</td>\n",
       "      <td>0</td>\n",
       "      <td>119레오</td>\n",
       "    </tr>\n",
       "    <tr>\n",
       "      <th>4</th>\n",
       "      <td>아이보리</td>\n",
       "      <td>면 아라미드</td>\n",
       "      <td>가방</td>\n",
       "      <td>5</td>\n",
       "      <td>남자</td>\n",
       "      <td>48000</td>\n",
       "      <td>1</td>\n",
       "      <td>119레오</td>\n",
       "    </tr>\n",
       "  </tbody>\n",
       "</table>\n",
       "</div>"
      ],
      "text/plain": [
       "  color contents category  ratings gender  price  style  brand\n",
       "0    기타        면       상의        5     남자  39000      0  119레오\n",
       "1    카키        면       하의        5     남자  42000      0  119레오\n",
       "2    기타        면       모자        5     남자  59000      0  119레오\n",
       "3    블랙        면       상의        5     남자  35000      0  119레오\n",
       "4  아이보리   면 아라미드       가방        5     남자  48000      1  119레오"
      ]
     },
     "execution_count": 3,
     "metadata": {},
     "output_type": "execute_result"
    }
   ],
   "source": [
    "# 불필요한 컬럼 제거\n",
    "raw.drop(['Unnamed: 0', 'user', 'up_check', 'url'], axis=1, inplace=True)\n",
    "raw.head()"
   ]
  },
  {
   "cell_type": "code",
   "execution_count": 4,
   "id": "3134e050",
   "metadata": {},
   "outputs": [
    {
     "name": "stdout",
     "output_type": "stream",
     "text": [
      "<class 'pandas.core.frame.DataFrame'>\n",
      "RangeIndex: 715 entries, 0 to 714\n",
      "Data columns (total 8 columns):\n",
      " #   Column    Non-Null Count  Dtype \n",
      "---  ------    --------------  ----- \n",
      " 0   color     715 non-null    object\n",
      " 1   contents  715 non-null    object\n",
      " 2   category  715 non-null    object\n",
      " 3   ratings   715 non-null    int64 \n",
      " 4   gender    715 non-null    object\n",
      " 5   price     715 non-null    int64 \n",
      " 6   style     715 non-null    int64 \n",
      " 7   brand     715 non-null    object\n",
      "dtypes: int64(3), object(5)\n",
      "memory usage: 44.8+ KB\n"
     ]
    }
   ],
   "source": [
    "raw.info()"
   ]
  },
  {
   "cell_type": "markdown",
   "id": "ddf2c59b",
   "metadata": {},
   "source": [
    "## 라벨 인코딩"
   ]
  },
  {
   "cell_type": "code",
   "execution_count": 5,
   "id": "82bb930c",
   "metadata": {},
   "outputs": [],
   "source": [
    "# 라벨 인코딩을 하기 위한 dictionary map 생성 함수\n",
    "def make_label_map(dataframe):\n",
    "    label_maps ={}\n",
    "    for col in dataframe.columns:\n",
    "        if dataframe[col].dtype=='object':\n",
    "            label_map = {'unknown':0}\n",
    "            for i, key in enumerate(dataframe[col].unique()):\n",
    "                label_map[key] = i+1  #새로 등장하는 유니크 값들에 대해 1부터 1씩 증가시켜 키값을 부여해줍니다.\n",
    "            label_maps[col] = label_map\n",
    "    return label_maps"
   ]
  },
  {
   "cell_type": "code",
   "execution_count": 6,
   "id": "7b9755c3",
   "metadata": {},
   "outputs": [],
   "source": [
    "# 각 범주형 변수에 인코딩 값을 부여하는 함수\n",
    "def label_encoder(dataframe, label_map):\n",
    "    for col in dataframe.columns:\n",
    "        if dataframe[col].dtype=='object':\n",
    "            dataframe[col] = dataframe[col].map(label_map[col])\n",
    "            dataframe[col] = dataframe[col].fillna(label_map[col]['unknown']) #혹시 모를 결측값은 unknown의 값(0)으로 채워줍니다.\n",
    "    return dataframe"
   ]
  },
  {
   "cell_type": "code",
   "execution_count": 7,
   "id": "c953d36a",
   "metadata": {},
   "outputs": [],
   "source": [
    "# train 데이터 라벨 인코딩\n",
    "label_map = make_label_map(raw) # train 사용해 label map 생성\n",
    "raw = label_encoder(raw, label_map) # train 라벨 인코딩"
   ]
  },
  {
   "cell_type": "code",
   "execution_count": 8,
   "id": "9630d52c",
   "metadata": {},
   "outputs": [
    {
     "data": {
      "text/html": [
       "<div>\n",
       "<style scoped>\n",
       "    .dataframe tbody tr th:only-of-type {\n",
       "        vertical-align: middle;\n",
       "    }\n",
       "\n",
       "    .dataframe tbody tr th {\n",
       "        vertical-align: top;\n",
       "    }\n",
       "\n",
       "    .dataframe thead th {\n",
       "        text-align: right;\n",
       "    }\n",
       "</style>\n",
       "<table border=\"1\" class=\"dataframe\">\n",
       "  <thead>\n",
       "    <tr style=\"text-align: right;\">\n",
       "      <th></th>\n",
       "      <th>color</th>\n",
       "      <th>contents</th>\n",
       "      <th>category</th>\n",
       "      <th>ratings</th>\n",
       "      <th>gender</th>\n",
       "      <th>price</th>\n",
       "      <th>style</th>\n",
       "      <th>brand</th>\n",
       "    </tr>\n",
       "  </thead>\n",
       "  <tbody>\n",
       "    <tr>\n",
       "      <th>0</th>\n",
       "      <td>1</td>\n",
       "      <td>1</td>\n",
       "      <td>1</td>\n",
       "      <td>5</td>\n",
       "      <td>1</td>\n",
       "      <td>39000</td>\n",
       "      <td>0</td>\n",
       "      <td>1</td>\n",
       "    </tr>\n",
       "    <tr>\n",
       "      <th>1</th>\n",
       "      <td>2</td>\n",
       "      <td>1</td>\n",
       "      <td>2</td>\n",
       "      <td>5</td>\n",
       "      <td>1</td>\n",
       "      <td>42000</td>\n",
       "      <td>0</td>\n",
       "      <td>1</td>\n",
       "    </tr>\n",
       "    <tr>\n",
       "      <th>2</th>\n",
       "      <td>1</td>\n",
       "      <td>1</td>\n",
       "      <td>3</td>\n",
       "      <td>5</td>\n",
       "      <td>1</td>\n",
       "      <td>59000</td>\n",
       "      <td>0</td>\n",
       "      <td>1</td>\n",
       "    </tr>\n",
       "    <tr>\n",
       "      <th>3</th>\n",
       "      <td>3</td>\n",
       "      <td>1</td>\n",
       "      <td>1</td>\n",
       "      <td>5</td>\n",
       "      <td>1</td>\n",
       "      <td>35000</td>\n",
       "      <td>0</td>\n",
       "      <td>1</td>\n",
       "    </tr>\n",
       "    <tr>\n",
       "      <th>4</th>\n",
       "      <td>4</td>\n",
       "      <td>2</td>\n",
       "      <td>4</td>\n",
       "      <td>5</td>\n",
       "      <td>1</td>\n",
       "      <td>48000</td>\n",
       "      <td>1</td>\n",
       "      <td>1</td>\n",
       "    </tr>\n",
       "    <tr>\n",
       "      <th>...</th>\n",
       "      <td>...</td>\n",
       "      <td>...</td>\n",
       "      <td>...</td>\n",
       "      <td>...</td>\n",
       "      <td>...</td>\n",
       "      <td>...</td>\n",
       "      <td>...</td>\n",
       "      <td>...</td>\n",
       "    </tr>\n",
       "    <tr>\n",
       "      <th>710</th>\n",
       "      <td>1</td>\n",
       "      <td>10</td>\n",
       "      <td>4</td>\n",
       "      <td>5</td>\n",
       "      <td>2</td>\n",
       "      <td>59000</td>\n",
       "      <td>0</td>\n",
       "      <td>6</td>\n",
       "    </tr>\n",
       "    <tr>\n",
       "      <th>711</th>\n",
       "      <td>4</td>\n",
       "      <td>63</td>\n",
       "      <td>3</td>\n",
       "      <td>5</td>\n",
       "      <td>2</td>\n",
       "      <td>35000</td>\n",
       "      <td>0</td>\n",
       "      <td>6</td>\n",
       "    </tr>\n",
       "    <tr>\n",
       "      <th>712</th>\n",
       "      <td>8</td>\n",
       "      <td>6</td>\n",
       "      <td>3</td>\n",
       "      <td>5</td>\n",
       "      <td>2</td>\n",
       "      <td>29000</td>\n",
       "      <td>0</td>\n",
       "      <td>6</td>\n",
       "    </tr>\n",
       "    <tr>\n",
       "      <th>713</th>\n",
       "      <td>3</td>\n",
       "      <td>3</td>\n",
       "      <td>1</td>\n",
       "      <td>5</td>\n",
       "      <td>2</td>\n",
       "      <td>138000</td>\n",
       "      <td>0</td>\n",
       "      <td>6</td>\n",
       "    </tr>\n",
       "    <tr>\n",
       "      <th>714</th>\n",
       "      <td>3</td>\n",
       "      <td>10</td>\n",
       "      <td>4</td>\n",
       "      <td>5</td>\n",
       "      <td>2</td>\n",
       "      <td>39000</td>\n",
       "      <td>0</td>\n",
       "      <td>6</td>\n",
       "    </tr>\n",
       "  </tbody>\n",
       "</table>\n",
       "<p>715 rows × 8 columns</p>\n",
       "</div>"
      ],
      "text/plain": [
       "     color  contents  category  ratings  gender   price  style  brand\n",
       "0        1         1         1        5       1   39000      0      1\n",
       "1        2         1         2        5       1   42000      0      1\n",
       "2        1         1         3        5       1   59000      0      1\n",
       "3        3         1         1        5       1   35000      0      1\n",
       "4        4         2         4        5       1   48000      1      1\n",
       "..     ...       ...       ...      ...     ...     ...    ...    ...\n",
       "710      1        10         4        5       2   59000      0      6\n",
       "711      4        63         3        5       2   35000      0      6\n",
       "712      8         6         3        5       2   29000      0      6\n",
       "713      3         3         1        5       2  138000      0      6\n",
       "714      3        10         4        5       2   39000      0      6\n",
       "\n",
       "[715 rows x 8 columns]"
      ]
     },
     "execution_count": 8,
     "metadata": {},
     "output_type": "execute_result"
    }
   ],
   "source": [
    "raw"
   ]
  },
  {
   "cell_type": "markdown",
   "id": "fdd4b7e5",
   "metadata": {},
   "source": [
    "## target이 되는 brand 컬럼 분리"
   ]
  },
  {
   "cell_type": "code",
   "execution_count": 9,
   "id": "09310641",
   "metadata": {},
   "outputs": [],
   "source": [
    "train_x = raw.drop([\"brand\"], axis=1)"
   ]
  },
  {
   "cell_type": "code",
   "execution_count": 10,
   "id": "6cb043ff",
   "metadata": {},
   "outputs": [
    {
     "data": {
      "text/html": [
       "<div>\n",
       "<style scoped>\n",
       "    .dataframe tbody tr th:only-of-type {\n",
       "        vertical-align: middle;\n",
       "    }\n",
       "\n",
       "    .dataframe tbody tr th {\n",
       "        vertical-align: top;\n",
       "    }\n",
       "\n",
       "    .dataframe thead th {\n",
       "        text-align: right;\n",
       "    }\n",
       "</style>\n",
       "<table border=\"1\" class=\"dataframe\">\n",
       "  <thead>\n",
       "    <tr style=\"text-align: right;\">\n",
       "      <th></th>\n",
       "      <th>color</th>\n",
       "      <th>contents</th>\n",
       "      <th>category</th>\n",
       "      <th>ratings</th>\n",
       "      <th>gender</th>\n",
       "      <th>price</th>\n",
       "      <th>style</th>\n",
       "    </tr>\n",
       "  </thead>\n",
       "  <tbody>\n",
       "    <tr>\n",
       "      <th>0</th>\n",
       "      <td>1</td>\n",
       "      <td>1</td>\n",
       "      <td>1</td>\n",
       "      <td>5</td>\n",
       "      <td>1</td>\n",
       "      <td>39000</td>\n",
       "      <td>0</td>\n",
       "    </tr>\n",
       "    <tr>\n",
       "      <th>1</th>\n",
       "      <td>2</td>\n",
       "      <td>1</td>\n",
       "      <td>2</td>\n",
       "      <td>5</td>\n",
       "      <td>1</td>\n",
       "      <td>42000</td>\n",
       "      <td>0</td>\n",
       "    </tr>\n",
       "    <tr>\n",
       "      <th>2</th>\n",
       "      <td>1</td>\n",
       "      <td>1</td>\n",
       "      <td>3</td>\n",
       "      <td>5</td>\n",
       "      <td>1</td>\n",
       "      <td>59000</td>\n",
       "      <td>0</td>\n",
       "    </tr>\n",
       "    <tr>\n",
       "      <th>3</th>\n",
       "      <td>3</td>\n",
       "      <td>1</td>\n",
       "      <td>1</td>\n",
       "      <td>5</td>\n",
       "      <td>1</td>\n",
       "      <td>35000</td>\n",
       "      <td>0</td>\n",
       "    </tr>\n",
       "    <tr>\n",
       "      <th>4</th>\n",
       "      <td>4</td>\n",
       "      <td>2</td>\n",
       "      <td>4</td>\n",
       "      <td>5</td>\n",
       "      <td>1</td>\n",
       "      <td>48000</td>\n",
       "      <td>1</td>\n",
       "    </tr>\n",
       "    <tr>\n",
       "      <th>...</th>\n",
       "      <td>...</td>\n",
       "      <td>...</td>\n",
       "      <td>...</td>\n",
       "      <td>...</td>\n",
       "      <td>...</td>\n",
       "      <td>...</td>\n",
       "      <td>...</td>\n",
       "    </tr>\n",
       "    <tr>\n",
       "      <th>710</th>\n",
       "      <td>1</td>\n",
       "      <td>10</td>\n",
       "      <td>4</td>\n",
       "      <td>5</td>\n",
       "      <td>2</td>\n",
       "      <td>59000</td>\n",
       "      <td>0</td>\n",
       "    </tr>\n",
       "    <tr>\n",
       "      <th>711</th>\n",
       "      <td>4</td>\n",
       "      <td>63</td>\n",
       "      <td>3</td>\n",
       "      <td>5</td>\n",
       "      <td>2</td>\n",
       "      <td>35000</td>\n",
       "      <td>0</td>\n",
       "    </tr>\n",
       "    <tr>\n",
       "      <th>712</th>\n",
       "      <td>8</td>\n",
       "      <td>6</td>\n",
       "      <td>3</td>\n",
       "      <td>5</td>\n",
       "      <td>2</td>\n",
       "      <td>29000</td>\n",
       "      <td>0</td>\n",
       "    </tr>\n",
       "    <tr>\n",
       "      <th>713</th>\n",
       "      <td>3</td>\n",
       "      <td>3</td>\n",
       "      <td>1</td>\n",
       "      <td>5</td>\n",
       "      <td>2</td>\n",
       "      <td>138000</td>\n",
       "      <td>0</td>\n",
       "    </tr>\n",
       "    <tr>\n",
       "      <th>714</th>\n",
       "      <td>3</td>\n",
       "      <td>10</td>\n",
       "      <td>4</td>\n",
       "      <td>5</td>\n",
       "      <td>2</td>\n",
       "      <td>39000</td>\n",
       "      <td>0</td>\n",
       "    </tr>\n",
       "  </tbody>\n",
       "</table>\n",
       "<p>715 rows × 7 columns</p>\n",
       "</div>"
      ],
      "text/plain": [
       "     color  contents  category  ratings  gender   price  style\n",
       "0        1         1         1        5       1   39000      0\n",
       "1        2         1         2        5       1   42000      0\n",
       "2        1         1         3        5       1   59000      0\n",
       "3        3         1         1        5       1   35000      0\n",
       "4        4         2         4        5       1   48000      1\n",
       "..     ...       ...       ...      ...     ...     ...    ...\n",
       "710      1        10         4        5       2   59000      0\n",
       "711      4        63         3        5       2   35000      0\n",
       "712      8         6         3        5       2   29000      0\n",
       "713      3         3         1        5       2  138000      0\n",
       "714      3        10         4        5       2   39000      0\n",
       "\n",
       "[715 rows x 7 columns]"
      ]
     },
     "execution_count": 10,
     "metadata": {},
     "output_type": "execute_result"
    }
   ],
   "source": [
    "train_x"
   ]
  },
  {
   "cell_type": "markdown",
   "id": "faab7e2f",
   "metadata": {},
   "source": [
    "## price 정규화"
   ]
  },
  {
   "cell_type": "code",
   "execution_count": 11,
   "id": "dc082419",
   "metadata": {},
   "outputs": [
    {
     "data": {
      "text/html": [
       "<div>\n",
       "<style scoped>\n",
       "    .dataframe tbody tr th:only-of-type {\n",
       "        vertical-align: middle;\n",
       "    }\n",
       "\n",
       "    .dataframe tbody tr th {\n",
       "        vertical-align: top;\n",
       "    }\n",
       "\n",
       "    .dataframe thead th {\n",
       "        text-align: right;\n",
       "    }\n",
       "</style>\n",
       "<table border=\"1\" class=\"dataframe\">\n",
       "  <thead>\n",
       "    <tr style=\"text-align: right;\">\n",
       "      <th></th>\n",
       "      <th>color</th>\n",
       "      <th>contents</th>\n",
       "      <th>category</th>\n",
       "      <th>ratings</th>\n",
       "      <th>gender</th>\n",
       "      <th>price</th>\n",
       "      <th>style</th>\n",
       "    </tr>\n",
       "  </thead>\n",
       "  <tbody>\n",
       "    <tr>\n",
       "      <th>0</th>\n",
       "      <td>1</td>\n",
       "      <td>1</td>\n",
       "      <td>1</td>\n",
       "      <td>5</td>\n",
       "      <td>1</td>\n",
       "      <td>-0.385005</td>\n",
       "      <td>0</td>\n",
       "    </tr>\n",
       "    <tr>\n",
       "      <th>1</th>\n",
       "      <td>2</td>\n",
       "      <td>1</td>\n",
       "      <td>2</td>\n",
       "      <td>5</td>\n",
       "      <td>1</td>\n",
       "      <td>-0.352781</td>\n",
       "      <td>0</td>\n",
       "    </tr>\n",
       "    <tr>\n",
       "      <th>2</th>\n",
       "      <td>1</td>\n",
       "      <td>1</td>\n",
       "      <td>3</td>\n",
       "      <td>5</td>\n",
       "      <td>1</td>\n",
       "      <td>-0.170174</td>\n",
       "      <td>0</td>\n",
       "    </tr>\n",
       "    <tr>\n",
       "      <th>3</th>\n",
       "      <td>3</td>\n",
       "      <td>1</td>\n",
       "      <td>1</td>\n",
       "      <td>5</td>\n",
       "      <td>1</td>\n",
       "      <td>-0.427971</td>\n",
       "      <td>0</td>\n",
       "    </tr>\n",
       "    <tr>\n",
       "      <th>4</th>\n",
       "      <td>4</td>\n",
       "      <td>2</td>\n",
       "      <td>4</td>\n",
       "      <td>5</td>\n",
       "      <td>1</td>\n",
       "      <td>-0.288331</td>\n",
       "      <td>1</td>\n",
       "    </tr>\n",
       "  </tbody>\n",
       "</table>\n",
       "</div>"
      ],
      "text/plain": [
       "   color  contents  category  ratings  gender     price  style\n",
       "0      1         1         1        5       1 -0.385005      0\n",
       "1      2         1         2        5       1 -0.352781      0\n",
       "2      1         1         3        5       1 -0.170174      0\n",
       "3      3         1         1        5       1 -0.427971      0\n",
       "4      4         2         4        5       1 -0.288331      1"
      ]
     },
     "execution_count": 11,
     "metadata": {},
     "output_type": "execute_result"
    }
   ],
   "source": [
    "# price 정규화\n",
    "num_features = ['price']\n",
    "\n",
    "scaler = StandardScaler()\n",
    "train_x[num_features] = scaler.fit_transform(train_x[num_features])\n",
    "train_x.head()"
   ]
  },
  {
   "cell_type": "markdown",
   "id": "709c4b33",
   "metadata": {},
   "source": [
    "## feature 별 상관계수 확인"
   ]
  },
  {
   "cell_type": "code",
   "execution_count": 12,
   "id": "e1232558",
   "metadata": {},
   "outputs": [],
   "source": [
    "#%matplotlib inline   #쥬피터노트북에서 이미지 표시가능하게 하는 쥬피터노트북 매직함수\n",
    "import matplotlib.pyplot as plt\n",
    "import seaborn as sns"
   ]
  },
  {
   "cell_type": "code",
   "execution_count": 13,
   "id": "c87892c0",
   "metadata": {},
   "outputs": [
    {
     "data": {
      "text/plain": [
       "<AxesSubplot:>"
      ]
     },
     "execution_count": 13,
     "metadata": {},
     "output_type": "execute_result"
    },
    {
     "data": {
      "image/png": "[encoded data removed]",
      "text/plain": [
       "<Figure size 1080x1080 with 2 Axes>"
      ]
     },
     "metadata": {
      "needs_background": "light"
     },
     "output_type": "display_data"
    }
   ],
   "source": [
    "plt.figure(figsize=(15,15))\n",
    "sns.heatmap(data = train_x.corr(), annot=True, \n",
    "fmt = '.2f', linewidths=.5, cmap='Blues')"
   ]
  },
  {
   "cell_type": "markdown",
   "id": "ed876faa",
   "metadata": {},
   "source": [
    "## 모델 학습"
   ]
  },
  {
   "cell_type": "code",
   "execution_count": 14,
   "id": "6e37af5b",
   "metadata": {},
   "outputs": [
    {
     "name": "stdout",
     "output_type": "stream",
     "text": [
      "#Train set size:  572\n",
      "#Test set size:  143\n"
     ]
    }
   ],
   "source": [
    "X_train, X_test, y_train, y_test = train_test_split(train_x, \n",
    "                                                    raw['brand'], \n",
    "                                                    test_size=0.2, \n",
    "                                                    random_state=4, \n",
    "                                                    stratify=raw.brand)\n",
    "\n",
    "print('#Train set size: ', len(X_train))\n",
    "print('#Test set size: ', len(X_test))"
   ]
  },
  {
   "cell_type": "code",
   "execution_count": 15,
   "id": "3a5ae437",
   "metadata": {},
   "outputs": [
    {
     "data": {
      "text/plain": [
       "RandomForestClassifier()"
      ]
     },
     "execution_count": 15,
     "metadata": {},
     "output_type": "execute_result"
    }
   ],
   "source": [
    "forest = RandomForestClassifier() # 분류기 선언\n",
    "# train data를 이용해 분류기를 학습\n",
    "forest.fit(X_train, y_train)"
   ]
  },
  {
   "cell_type": "code",
   "execution_count": 16,
   "id": "b6dc8e5b",
   "metadata": {},
   "outputs": [],
   "source": [
    "# 먼저 점수를 메기는 방법인 평가 지표(Metric)를 정의합니다.\n",
    "import numpy as np\n",
    "\n",
    "def ACCURACY(true, pred):   \n",
    "    score = np.mean(true==pred)\n",
    "    return score"
   ]
  },
  {
   "cell_type": "code",
   "execution_count": 17,
   "id": "a48ab1c8",
   "metadata": {},
   "outputs": [
    {
     "name": "stdout",
     "output_type": "stream",
     "text": [
      "Random Forest 모델의 정확도는 51.05% 입니다\n"
     ]
    }
   ],
   "source": [
    "# 모델의 예측과 실제 정답값을 비교합니다.\n",
    "prediction = forest.predict(X_test)\n",
    "\n",
    "score = ACCURACY(y_test, prediction)\n",
    "\n",
    "print(f\"Random Forest 모델의 정확도는 {score*100:.2f}% 입니다\")"
   ]
  },
  {
   "cell_type": "code",
   "execution_count": 18,
   "id": "f7751dfe",
   "metadata": {},
   "outputs": [],
   "source": [
    "# 오차행렬, 정확도, 정밀도, 재현율을 한번에 출력하기 위한 함수 정의\n",
    "from sklearn.metrics import accuracy_score, precision_score, recall_score, confusion_matrix\n",
    "from sklearn.metrics import f1_score\n",
    "\n",
    "pred = forest.predict(X_test)\n",
    "\n",
    "def get_forest_eval(y_test, pred):\n",
    "    confusion = confusion_matrix(y_test, pred)\n",
    "    accuracy = accuracy_score(y_test, pred)\n",
    "    precision = precision_score(y_test, pred, average='micro')\n",
    "    recall = recall_score(y_test, pred, average='micro')\n",
    "    print('Confusion Matrix')\n",
    "    print(confusion)\n",
    "    print('정확도:{}, 정밀도:{}, 재현율:{}'.format(accuracy, precision, recall))"
   ]
  },
  {
   "cell_type": "code",
   "execution_count": 19,
   "id": "09c88448",
   "metadata": {},
   "outputs": [
    {
     "name": "stdout",
     "output_type": "stream",
     "text": [
      "Confusion Matrix\n",
      "[[ 3  2  3  0  2  4]\n",
      " [ 1 19 10  1  1  6]\n",
      " [ 0  8 23  1  1  3]\n",
      " [ 0  1  2  2  0  1]\n",
      " [ 0  1  2  2  1  1]\n",
      " [ 4  6  4  2  1 25]]\n",
      "정확도:0.5104895104895105, 정밀도:0.5104895104895105, 재현율:0.5104895104895105\n"
     ]
    }
   ],
   "source": [
    "get_forest_eval(y_test, pred)"
   ]
  },
  {
   "cell_type": "code",
   "execution_count": 20,
   "id": "a9e5616d",
   "metadata": {
    "scrolled": true
   },
   "outputs": [
    {
     "name": "stdout",
     "output_type": "stream",
     "text": [
      "f1 score : 0.5104895104895105\n"
     ]
    }
   ],
   "source": [
    "# f1-score\n",
    "f1 = f1_score(y_test, pred, average='micro')\n",
    "print('f1 score :', f1)"
   ]
  },
  {
   "cell_type": "markdown",
   "id": "34237b11",
   "metadata": {},
   "source": [
    "## Tuning"
   ]
  },
  {
   "cell_type": "code",
   "execution_count": 23,
   "id": "cdf21e35",
   "metadata": {},
   "outputs": [],
   "source": [
    "params = {'max_depth':range(1,11), 'min_samples_split':[2,3], 'n_estimators':range(1,16)}"
   ]
  },
  {
   "cell_type": "code",
   "execution_count": 24,
   "id": "eaafa6a4",
   "metadata": {},
   "outputs": [],
   "source": [
    "from sklearn.model_selection import GridSearchCV\n",
    "grid_rf_clf = GridSearchCV(estimator=forest, param_grid=params, cv=3,\n",
    "                           scoring='accuracy', verbose=1, n_jobs=-1)"
   ]
  },
  {
   "cell_type": "code",
   "execution_count": 25,
   "id": "acb7ba92",
   "metadata": {},
   "outputs": [
    {
     "name": "stdout",
     "output_type": "stream",
     "text": [
      "Fitting 3 folds for each of 300 candidates, totalling 900 fits\n"
     ]
    },
    {
     "data": {
      "text/plain": [
       "GridSearchCV(cv=3, estimator=RandomForestClassifier(), n_jobs=-1,\n",
       "             param_grid={'max_depth': range(1, 11), 'min_samples_split': [2, 3],\n",
       "                         'n_estimators': range(1, 16)},\n",
       "             scoring='accuracy', verbose=1)"
      ]
     },
     "execution_count": 25,
     "metadata": {},
     "output_type": "execute_result"
    }
   ],
   "source": [
    "grid_rf_clf.fit(X_train, y_train)\n"
   ]
  },
  {
   "cell_type": "code",
   "execution_count": 26,
   "id": "1f8284a8",
   "metadata": {},
   "outputs": [
    {
     "data": {
      "text/html": [
       "<div>\n",
       "<style scoped>\n",
       "    .dataframe tbody tr th:only-of-type {\n",
       "        vertical-align: middle;\n",
       "    }\n",
       "\n",
       "    .dataframe tbody tr th {\n",
       "        vertical-align: top;\n",
       "    }\n",
       "\n",
       "    .dataframe thead th {\n",
       "        text-align: right;\n",
       "    }\n",
       "</style>\n",
       "<table border=\"1\" class=\"dataframe\">\n",
       "  <thead>\n",
       "    <tr style=\"text-align: right;\">\n",
       "      <th></th>\n",
       "      <th>params</th>\n",
       "      <th>mean_test_score</th>\n",
       "      <th>rank_test_score</th>\n",
       "      <th>split0_test_score</th>\n",
       "      <th>split1_test_score</th>\n",
       "      <th>split2_test_score</th>\n",
       "    </tr>\n",
       "  </thead>\n",
       "  <tbody>\n",
       "    <tr>\n",
       "      <th>0</th>\n",
       "      <td>{'max_depth': 1, 'min_samples_split': 2, 'n_es...</td>\n",
       "      <td>0.300680</td>\n",
       "      <td>300</td>\n",
       "      <td>0.314136</td>\n",
       "      <td>0.298429</td>\n",
       "      <td>0.289474</td>\n",
       "    </tr>\n",
       "    <tr>\n",
       "      <th>1</th>\n",
       "      <td>{'max_depth': 1, 'min_samples_split': 2, 'n_es...</td>\n",
       "      <td>0.342574</td>\n",
       "      <td>296</td>\n",
       "      <td>0.434555</td>\n",
       "      <td>0.298429</td>\n",
       "      <td>0.294737</td>\n",
       "    </tr>\n",
       "    <tr>\n",
       "      <th>2</th>\n",
       "      <td>{'max_depth': 1, 'min_samples_split': 2, 'n_es...</td>\n",
       "      <td>0.414412</td>\n",
       "      <td>269</td>\n",
       "      <td>0.418848</td>\n",
       "      <td>0.366492</td>\n",
       "      <td>0.457895</td>\n",
       "    </tr>\n",
       "    <tr>\n",
       "      <th>3</th>\n",
       "      <td>{'max_depth': 1, 'min_samples_split': 2, 'n_es...</td>\n",
       "      <td>0.379425</td>\n",
       "      <td>287</td>\n",
       "      <td>0.424084</td>\n",
       "      <td>0.303665</td>\n",
       "      <td>0.410526</td>\n",
       "    </tr>\n",
       "    <tr>\n",
       "      <th>4</th>\n",
       "      <td>{'max_depth': 1, 'min_samples_split': 2, 'n_es...</td>\n",
       "      <td>0.437099</td>\n",
       "      <td>223</td>\n",
       "      <td>0.439791</td>\n",
       "      <td>0.413613</td>\n",
       "      <td>0.457895</td>\n",
       "    </tr>\n",
       "    <tr>\n",
       "      <th>...</th>\n",
       "      <td>...</td>\n",
       "      <td>...</td>\n",
       "      <td>...</td>\n",
       "      <td>...</td>\n",
       "      <td>...</td>\n",
       "      <td>...</td>\n",
       "    </tr>\n",
       "    <tr>\n",
       "      <th>295</th>\n",
       "      <td>{'max_depth': 10, 'min_samples_split': 3, 'n_e...</td>\n",
       "      <td>0.524460</td>\n",
       "      <td>4</td>\n",
       "      <td>0.507853</td>\n",
       "      <td>0.549738</td>\n",
       "      <td>0.515789</td>\n",
       "    </tr>\n",
       "    <tr>\n",
       "      <th>296</th>\n",
       "      <td>{'max_depth': 10, 'min_samples_split': 3, 'n_e...</td>\n",
       "      <td>0.472022</td>\n",
       "      <td>152</td>\n",
       "      <td>0.450262</td>\n",
       "      <td>0.497382</td>\n",
       "      <td>0.468421</td>\n",
       "    </tr>\n",
       "    <tr>\n",
       "      <th>297</th>\n",
       "      <td>{'max_depth': 10, 'min_samples_split': 3, 'n_e...</td>\n",
       "      <td>0.503435</td>\n",
       "      <td>44</td>\n",
       "      <td>0.502618</td>\n",
       "      <td>0.539267</td>\n",
       "      <td>0.468421</td>\n",
       "    </tr>\n",
       "    <tr>\n",
       "      <th>298</th>\n",
       "      <td>{'max_depth': 10, 'min_samples_split': 3, 'n_e...</td>\n",
       "      <td>0.527969</td>\n",
       "      <td>2</td>\n",
       "      <td>0.476440</td>\n",
       "      <td>0.581152</td>\n",
       "      <td>0.526316</td>\n",
       "    </tr>\n",
       "    <tr>\n",
       "      <th>299</th>\n",
       "      <td>{'max_depth': 10, 'min_samples_split': 3, 'n_e...</td>\n",
       "      <td>0.501699</td>\n",
       "      <td>54</td>\n",
       "      <td>0.476440</td>\n",
       "      <td>0.554974</td>\n",
       "      <td>0.473684</td>\n",
       "    </tr>\n",
       "  </tbody>\n",
       "</table>\n",
       "<p>300 rows × 6 columns</p>\n",
       "</div>"
      ],
      "text/plain": [
       "                                                params  mean_test_score  \\\n",
       "0    {'max_depth': 1, 'min_samples_split': 2, 'n_es...         0.300680   \n",
       "1    {'max_depth': 1, 'min_samples_split': 2, 'n_es...         0.342574   \n",
       "2    {'max_depth': 1, 'min_samples_split': 2, 'n_es...         0.414412   \n",
       "3    {'max_depth': 1, 'min_samples_split': 2, 'n_es...         0.379425   \n",
       "4    {'max_depth': 1, 'min_samples_split': 2, 'n_es...         0.437099   \n",
       "..                                                 ...              ...   \n",
       "295  {'max_depth': 10, 'min_samples_split': 3, 'n_e...         0.524460   \n",
       "296  {'max_depth': 10, 'min_samples_split': 3, 'n_e...         0.472022   \n",
       "297  {'max_depth': 10, 'min_samples_split': 3, 'n_e...         0.503435   \n",
       "298  {'max_depth': 10, 'min_samples_split': 3, 'n_e...         0.527969   \n",
       "299  {'max_depth': 10, 'min_samples_split': 3, 'n_e...         0.501699   \n",
       "\n",
       "     rank_test_score  split0_test_score  split1_test_score  split2_test_score  \n",
       "0                300           0.314136           0.298429           0.289474  \n",
       "1                296           0.434555           0.298429           0.294737  \n",
       "2                269           0.418848           0.366492           0.457895  \n",
       "3                287           0.424084           0.303665           0.410526  \n",
       "4                223           0.439791           0.413613           0.457895  \n",
       "..               ...                ...                ...                ...  \n",
       "295                4           0.507853           0.549738           0.515789  \n",
       "296              152           0.450262           0.497382           0.468421  \n",
       "297               44           0.502618           0.539267           0.468421  \n",
       "298                2           0.476440           0.581152           0.526316  \n",
       "299               54           0.476440           0.554974           0.473684  \n",
       "\n",
       "[300 rows x 6 columns]"
      ]
     },
     "execution_count": 26,
     "metadata": {},
     "output_type": "execute_result"
    }
   ],
   "source": [
    "# GridSearchCV 결과 추출하여 DataFrame으로 변환\n",
    "scores_df = pd.DataFrame(grid_rf_clf.cv_results_)\n",
    "scores_df[['params', 'mean_test_score', 'rank_test_score', \\\n",
    "           'split0_test_score', 'split1_test_score', 'split2_test_score']]"
   ]
  },
  {
   "cell_type": "code",
   "execution_count": 27,
   "id": "628dfc5e",
   "metadata": {},
   "outputs": [
    {
     "name": "stdout",
     "output_type": "stream",
     "text": [
      "0.5331863690640214\n",
      "RandomForestClassifier(max_depth=7, min_samples_split=3, n_estimators=15)\n"
     ]
    }
   ],
   "source": [
    "print(grid_rf_clf.best_score_)\n",
    "print(grid_rf_clf.best_estimator_)"
   ]
  },
  {
   "cell_type": "code",
   "execution_count": 36,
   "id": "c2c080ba",
   "metadata": {},
   "outputs": [
    {
     "name": "stdout",
     "output_type": "stream",
     "text": [
      "Random Forest 모델의 정확도는 56.64% 입니다\n"
     ]
    }
   ],
   "source": [
    "# forest = RandomForestClassifier(max_depth=9, min_samples_split=3, n_estimators=14)\n",
    "\n",
    "forest = RandomForestClassifier(max_depth=9, n_estimators=14) # 분류기 선언\n",
    "# train data를 이용해 분류기를 학습\n",
    "forest.fit(X_train, y_train)\n",
    "# 모델의 예측과 실제 정답값을 비교합니다.\n",
    "prediction = forest.predict(X_test)\n",
    "\n",
    "score = ACCURACY(y_test, prediction)\n",
    "\n",
    "print(f\"Random Forest 모델의 정확도는 {score*100:.2f}% 입니다\")"
   ]
  },
  {
   "cell_type": "code",
   "execution_count": 37,
   "id": "47a63f9c",
   "metadata": {},
   "outputs": [
    {
     "name": "stdout",
     "output_type": "stream",
     "text": [
      "f1 score : 0.5664335664335665\n"
     ]
    }
   ],
   "source": [
    "# f1-score\n",
    "f1 = f1_score(y_test, prediction, average='micro')\n",
    "print('f1 score :', f1)"
   ]
  },
  {
   "cell_type": "code",
   "execution_count": 39,
   "id": "07c01542",
   "metadata": {},
   "outputs": [
    {
     "data": {
      "text/plain": [
       "['./randomforest(tuning).pkl']"
      ]
     },
     "execution_count": 39,
     "metadata": {},
     "output_type": "execute_result"
    }
   ],
   "source": [
    "# 학습모델 저장\n",
    "import joblib\n",
    "\n",
    "joblib.dump(forest, './randomforest(tuning).pkl')"
   ]
  },
  {
   "cell_type": "code",
   "execution_count": null,
   "id": "4ba7b8d6",
   "metadata": {},
   "outputs": [],
   "source": []
  }
 ],
 "metadata": {
  "kernelspec": {
   "display_name": "Python 3",
   "language": "python",
   "name": "python3"
  },
  "language_info": {
   "codemirror_mode": {
    "name": "ipython",
    "version": 3
   },
   "file_extension": ".py",
   "mimetype": "text/x-python",
   "name": "python",
   "nbconvert_exporter": "python",
   "pygments_lexer": "ipython3",
   "version": "3.8.8"
  }
 },
 "nbformat": 4,
 "nbformat_minor": 5
}
